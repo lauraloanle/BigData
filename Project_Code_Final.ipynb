{
 "cells": [
  {
   "cell_type": "markdown",
   "metadata": {},
   "source": [
    "# **SEC Financial Statement Report Analysis**"
   ]
  },
  {
   "cell_type": "markdown",
   "metadata": {},
   "source": [
    "### Working with Big Data - Group 12\n",
    "\n",
    "### Team Members: Laura Le, Jennifer Nguyen, Vibhu Verma, Sally Zhang"
   ]
  },
  {
   "cell_type": "markdown",
   "metadata": {},
   "source": [
    "The dataset we picked for the project is SEC Financial Statement Dataset. The SEC Financial Statement Dataset provides the text and detailed numeric information of all financial statements. The Dataset is extracted from corporate annual and quarterly reports filed with the SEC using XBRL since January 2009. The dataset covers all XBRL filings since 2009, it includes 12.6k companies. In total 239.7k annual and quarterly reports, 192.5 million data points, and 20GB+ compressed in Parquet."
   ]
  },
  {
   "cell_type": "markdown",
   "metadata": {},
   "source": [
    "First, let's connect to the all the documents and have a heads up of all the tables."
   ]
  },
  {
   "cell_type": "code",
   "execution_count": 1,
   "metadata": {},
   "outputs": [],
   "source": [
    "import findspark\n",
    "findspark.init()"
   ]
  },
  {
   "cell_type": "code",
   "execution_count": 2,
   "metadata": {},
   "outputs": [],
   "source": [
    "from pyspark import SparkContext"
   ]
  },
  {
   "cell_type": "code",
   "execution_count": 3,
   "metadata": {},
   "outputs": [],
   "source": [
    "sc = SparkContext()"
   ]
  },
  {
   "cell_type": "code",
   "execution_count": 4,
   "metadata": {
    "scrolled": true
   },
   "outputs": [
    {
     "data": {
      "text/html": [
       "\n",
       "        <div>\n",
       "            <p><b>SparkContext</b></p>\n",
       "\n",
       "            <p><a href=\"http://ip-172-31-17-208.ec2.internal:4040\">Spark UI</a></p>\n",
       "\n",
       "            <dl>\n",
       "              <dt>Version</dt>\n",
       "                <dd><code>v2.4.4</code></dd>\n",
       "              <dt>Master</dt>\n",
       "                <dd><code>yarn</code></dd>\n",
       "              <dt>AppName</dt>\n",
       "                <dd><code>pyspark-shell</code></dd>\n",
       "            </dl>\n",
       "        </div>\n",
       "        "
      ],
      "text/plain": [
       "<SparkContext master=yarn appName=pyspark-shell>"
      ]
     },
     "execution_count": 4,
     "metadata": {},
     "output_type": "execute_result"
    }
   ],
   "source": [
    "sc"
   ]
  },
  {
   "cell_type": "code",
   "execution_count": 7,
   "metadata": {},
   "outputs": [],
   "source": [
    "#sqlContext = pyspark.SQLContext(sc)"
   ]
  },
  {
   "cell_type": "code",
   "execution_count": 4,
   "metadata": {},
   "outputs": [],
   "source": [
    "from pyspark.sql import SparkSession\n",
    "spark = SparkSession.builder.getOrCreate()"
   ]
  },
  {
   "cell_type": "code",
   "execution_count": 5,
   "metadata": {},
   "outputs": [
    {
     "data": {
      "text/html": [
       "\n",
       "            <div>\n",
       "                <p><b>SparkSession - in-memory</b></p>\n",
       "                \n",
       "        <div>\n",
       "            <p><b>SparkContext</b></p>\n",
       "\n",
       "            <p><a href=\"http://ip-172-31-17-208.ec2.internal:4040\">Spark UI</a></p>\n",
       "\n",
       "            <dl>\n",
       "              <dt>Version</dt>\n",
       "                <dd><code>v2.4.4</code></dd>\n",
       "              <dt>Master</dt>\n",
       "                <dd><code>yarn</code></dd>\n",
       "              <dt>AppName</dt>\n",
       "                <dd><code>pyspark-shell</code></dd>\n",
       "            </dl>\n",
       "        </div>\n",
       "        \n",
       "            </div>\n",
       "        "
      ],
      "text/plain": [
       "<pyspark.sql.session.SparkSession at 0x7f96a44469d0>"
      ]
     },
     "execution_count": 5,
     "metadata": {},
     "output_type": "execute_result"
    }
   ],
   "source": [
    "spark"
   ]
  },
  {
   "cell_type": "code",
   "execution_count": 6,
   "metadata": {},
   "outputs": [],
   "source": [
    "!pip install pyspark_dist_explore"
   ]
  },
  {
   "cell_type": "code",
   "execution_count": 7,
   "metadata": {},
   "outputs": [],
   "source": [
    "import pyspark\n",
    "import pandas as pd\n",
    "import numpy as np\n",
    "import pyspark.sql.functions as F\n",
    "import matplotlib.pyplot as plt\n",
    "import seaborn as sns\n",
    "sns.set()\n",
    "\n",
    "from IPython.display import display, HTML, display_html #usefull to display wide tables\n",
    "from pyspark_dist_explore import Histogram, hist, distplot, pandas_histogram\n",
    "from pyspark.sql import Row\n",
    "\n",
    "%matplotlib inline"
   ]
  },
  {
   "cell_type": "code",
   "execution_count": 12,
   "metadata": {},
   "outputs": [
    {
     "name": "stdout",
     "output_type": "stream",
     "text": [
      "Found existing installation: pyarrow 0.17.1\n",
      "Uninstalling pyarrow-0.17.1:\n",
      "  Successfully uninstalled pyarrow-0.17.1\n"
     ]
    }
   ],
   "source": [
    "#!pip uninstall pyarrow -y"
   ]
  },
  {
   "cell_type": "code",
   "execution_count": 13,
   "metadata": {},
   "outputs": [
    {
     "name": "stdout",
     "output_type": "stream",
     "text": [
      "Collecting pyarrow\n",
      "  Using cached pyarrow-0.17.1-cp37-cp37m-manylinux2014_x86_64.whl (63.8 MB)\n",
      "Requirement already satisfied: numpy>=1.14 in /home/hadoop/miniconda/lib/python3.7/site-packages (from pyarrow) (1.18.5)\n",
      "Installing collected packages: pyarrow\n",
      "Successfully installed pyarrow-0.17.1\n"
     ]
    }
   ],
   "source": [
    "#!pip install pyarrow"
   ]
  },
  {
   "cell_type": "markdown",
   "metadata": {},
   "source": [
    "## **Create Dataframes in Spark**"
   ]
  },
  {
   "cell_type": "markdown",
   "metadata": {},
   "source": [
    "Load all the tables from S3 buckets"
   ]
  },
  {
   "cell_type": "markdown",
   "metadata": {},
   "source": [
    "### 1. Company Submission Table"
   ]
  },
  {
   "cell_type": "code",
   "execution_count": 8,
   "metadata": {},
   "outputs": [],
   "source": [
    "company_submission = spark.read.csv(\"s3://big-data-project-sec/company_submission.csv\",header=True,inferSchema=True)"
   ]
  },
  {
   "cell_type": "code",
   "execution_count": 25,
   "metadata": {},
   "outputs": [
    {
     "name": "stdout",
     "output_type": "stream",
     "text": [
      "+--------------------+--------------------+----+--------------------+-------------------+-------------+------------------------+----------------------------+--------------------------+----------------------------+-----------------------------+--------------+------------+----------+----------------------+-----------------------+-----------------------+--------------------+---------------------+-------------------+------------------------+------------------------+---------------------+----------------------+--------------------+--------------------+---------------------+\n",
      "|accession_number_int|    accession_number| cik|        company_name|        filing_date|document_type|document_period_end_date|current_fiscal_year_end_date|document_fiscal_year_focus|document_fiscal_period_focus|current_fiscal_year_end_month|amendment_flag|assigned_sic|irs_number|state_of_incorporation|mailing_address_street1|mailing_address_street2|mailing_address_city|mailing_address_state|mailing_address_zip|business_address_street1|business_address_street2|business_address_city|business_address_state|business_address_zip|mailing_phone_number|business_phone_number|\n",
      "+--------------------+--------------------+----+--------------------+-------------------+-------------+------------------------+----------------------------+--------------------------+----------------------------+-----------------------------+--------------+------------+----------+----------------------+-----------------------+-----------------------+--------------------+---------------------+-------------------+------------------------+------------------------+---------------------+----------------------+--------------------+--------------------+---------------------+\n",
      "|        217814000056|0000002178-14-000056|2178|ADAMS RESOURCES &...|2014-08-11 00:00:00|         10-Q|     2014-06-30 00:00:00|                     --12-31|                      2014|                          Q2|                           12|         false|        5172|741753147 |                    DE|            P O BOX 844|                   null|             HOUSTON|                   TX|              77001|    17 S. BRIAR HOLLO...|                    null|              HOUSTON|                    TX|               77027|                null|           7138813600|\n",
      "|        296917000031|0000002969-17-000031|2969|AIR PRODUCTS & CH...|2017-08-01 00:00:00|         10-Q|     2017-06-30 00:00:00|                     --09-30|                      2017|                          Q3|                            9|         false|        2810|231274455 |                    DE|     7201 HAMILTON BLVD|                   null|           ALLENTOWN|                   PA|         18195-1501|      7201 HAMILTON BLVD|                    null|            ALLENTOWN|                    PA|          18195-1501|                null|           6104814911|\n",
      "|        296917000039|0000002969-17-000039|2969|AIR PRODUCTS & CH...|2017-11-16 00:00:00|         10-K|     2017-09-30 00:00:00|                     --09-30|                      2017|                          FY|                            9|         false|        2810|231274455 |                    DE|     7201 HAMILTON BLVD|                   null|           ALLENTOWN|                   PA|         18195-1501|      7201 HAMILTON BLVD|                    null|            ALLENTOWN|                    PA|          18195-1501|                null|           6104814911|\n",
      "|        296918000014|0000002969-18-000014|2969|AIR PRODUCTS & CH...|2018-01-26 00:00:00|         10-Q|     2017-12-31 00:00:00|                     --09-30|                      2018|                          Q1|                            9|         false|        2810|231274455 |                    DE|     7201 HAMILTON BLVD|                   null|           ALLENTOWN|                   PA|         18195-1501|      7201 HAMILTON BLVD|                    null|            ALLENTOWN|                    PA|          18195-1501|                null|           6104814911|\n",
      "|        349916000040|0000003499-16-000040|3499|      ALEXANDERS INC|2016-05-02 00:00:00|         10-Q|     2016-03-31 00:00:00|                     --12-31|                      2016|                          Q1|                           12|         false|        6798|510100517 |                    DE|       210 ROUTE 4 EAST|                   null|             PARAMUS|                   NJ|              07652|        210 ROUTE 4 EAST|                    null|              PARAMUS|                    NJ|               07652|                null|         201-587-8541|\n",
      "|        357012000143|0000003570-12-000143|3570| CHENIERE ENERGY INC|2012-11-02 00:00:00|         10-Q|     2012-09-30 00:00:00|                     --12-31|                      2012|                          Q3|                           12|         false|        4924|954352386 |                    DE|          700 MILAM ST.|              SUITE 800|             HOUSTON|                   TX|              77002|           700 MILAM ST.|               SUITE 800|              HOUSTON|                    TX|               77002|                null|           7133755000|\n",
      "|        357013000036|0000003570-13-000036|3570| CHENIERE ENERGY INC|2013-02-22 00:00:00|         10-K|     2012-12-31 00:00:00|                     --12-31|                      2012|                          FY|                           12|         false|        4924|954352386 |                    DE|          700 MILAM ST.|              SUITE 800|             HOUSTON|                   TX|              77002|           700 MILAM ST.|               SUITE 800|              HOUSTON|                    TX|               77002|                null|           7133755000|\n",
      "|        357013000161|0000003570-13-000161|3570| CHENIERE ENERGY INC|2013-08-02 00:00:00|         10-Q|     2013-06-30 00:00:00|                     --12-31|                      2013|                          Q2|                           12|         false|        4924|954352386 |                    DE|          700 MILAM ST.|              SUITE 800|             HOUSTON|                   TX|              77002|           700 MILAM ST.|               SUITE 800|              HOUSTON|                    TX|               77002|                null|           7133755000|\n",
      "|        418714000008|0000004187-14-000008|4187|INDUSTRIAL SERVIC...|2014-01-10 00:00:00|         10-Q|     2013-09-30 00:00:00|                     --12-31|                      2013|                          Q3|                           12|         false|        4950|590712746 |                  null|   7100 GRADE LANE B...|                   null|          LOUISVILLE|                   KY|              40232|    7100 GRADE LN BUI...|                    null|           LOUISVILLE|                    KY|               40232|                null|           5023681661|\n",
      "|        418715000010|0000004187-15-000010|4187|INDUSTRIAL SERVIC...|2015-08-14 00:00:00|         10-Q|     2015-06-30 00:00:00|                     --12-31|                      2015|                          Q2|                           12|         false|        4950|590712746 |                    FL|        7100 GRADE LANE|             BUILDING 1|          LOUISVILLE|                   KY|              40213|         7100 GRADE LANE|              BUILDING 1|           LOUISVILLE|                    KY|               40213|                null|           5023681661|\n",
      "|        418715000014|0000004187-15-000014|4187|INDUSTRIAL SERVIC...|2015-11-13 00:00:00|         10-Q|     2015-09-30 00:00:00|                     --12-31|                      2015|                          Q3|                           12|         false|        4950|590712746 |                    FL|        7100 GRADE LANE|             BUILDING 1|          LOUISVILLE|                   KY|              40213|         7100 GRADE LANE|              BUILDING 1|           LOUISVILLE|                    KY|               40213|                null|           5023681661|\n",
      "|        445715000004|0000004457-15-000004|4457|         AMERCO /NV/|2015-02-04 00:00:00|         10-Q|     2014-12-31 00:00:00|                     --03-31|                      2015|                          Q3|                            3|         false|        7510|880106815 |                    NV|     1325 AIRMOTIVE WAY|              SUITE 100|                RENO|                   NV|              89502|    1325 AIRMOTIVE WA...|                    null|                 RENO|                    NV|               89502|                null|           7756886300|\n",
      "|        490413000050|0000004904-13-000050|4904|AMERICAN ELECTRIC...|2013-04-26 00:00:00|         10-Q|     2013-03-31 00:00:00|                     --12-31|                      2013|                          Q1|                           12|         false|        4911|134922640 |                    NY|      1 RIVERSIDE PLAZA|                   null|            COLUMBUS|                   OH|              43215|       1 RIVERSIDE PLAZA|                    null|             COLUMBUS|                    OH|               43215|                null|         614-716-1000|\n",
      "|        527216000035|0000005272-16-000035|5272|AMERICAN INTERNAT...|2016-02-19 00:00:00|         10-K|     2015-12-31 00:00:00|                     --12-31|                      2015|                          FY|                           12|         false|        6331|132592361 |                    DE|       175 WATER STREET|                   null|            NEW YORK|                   NY|              10038|        175 WATER STREET|                    null|             NEW YORK|                    NY|               10038|                null|           2127707000|\n",
      "|        551311000047|0000005513-11-000047|5513|          UNUM GROUP|2011-11-02 00:00:00|         10-Q|     2011-09-30 00:00:00|                     --12-31|                      2011|                          Q3|                           12|         false|        6321|621598430 |                    DE|      1 FOUNTAIN SQUARE|                   null|         CHATTANOOGA|                   TN|              37402|       1 FOUNTAIN SQUARE|                    null|          CHATTANOOGA|                    TN|               37402|                null|         423-294-8974|\n",
      "|        620712000020|0000006207-12-000020|6207|         AMREP CORP.|2012-09-25 00:00:00|       10-Q/A|     2012-07-31 00:00:00|                     --04-30|                      2013|                          Q1|                            4|         false|        6500|590936128 |                    OK|     300 ALEXANDER PARK|              SUITE 204|           PRINCETON|                   NJ|              08540|      300 ALEXANDER PARK|               SUITE 204|            PRINCETON|                    NJ|               08540|                null|         (609) 716-82|\n",
      "|        684518000002|0000006845-18-000002|6845|APOGEE ENTERPRISE...|2018-01-11 00:00:00|         10-Q|     2017-12-02 00:00:00|                     --03-03|                      2018|                          Q3|                            2|         false|        3231|410919654 |                    MN|   4400 WEST 78TH ST...|              SUITE 520|         MINNEAPOLIS|                   MN|              55435|    4400 WEST 78TH ST...|               SUITE 520|          MINNEAPOLIS|                    MN|               55435|                null|           6128351874|\n",
      "|        695116000059|0000006951-16-000059|6951|APPLIED MATERIALS...|2016-08-25 00:00:00|         10-Q|     2016-07-31 00:00:00|                     --10-30|                      2016|                          Q3|                           10|         false|        3674|941655526 |                    DC|        3050 BOWERS AVE|                   null|         SANTA CLARA|                   CA|         95054-3299|         3050 BOWERS AVE|                    null|          SANTA CLARA|                    CA|          95054-3299|                null|           4087275555|\n",
      "|        695516000084|0000006955-16-000084|6955|        ACTUANT CORP|2016-10-28 00:00:00|         10-K|     2016-08-31 00:00:00|                     --08-31|                      2016|                          Q4|                            8|         false|        3590|390168610 |                    WI|      ATTN:  MATT PAULI|   N86 W12500 WESTBR...|     MENOMONEE FALLS|                   WI|              53051|       ATTN:  MATT PAULI|    N86 W12500 WESTBR...|      MENOMONEE FALLS|                    WI|               53051|                null|         262-293-1524|\n",
      "|        708410000018|0000007084-10-000018|7084|ARCHER DANIELS MI...|2010-05-10 00:00:00|         10-Q|     2010-03-31 00:00:00|                     --06-30|                      2010|                          Q3|                            6|         false|        2070|410129150 |                    DE|       4666 FARIES PKWY|                   null|             DECATUR|                   IL|              62526|        4666 FARIES PKWY|                    null|              DECATUR|                    IL|               62526|                null|           2174244798|\n",
      "+--------------------+--------------------+----+--------------------+-------------------+-------------+------------------------+----------------------------+--------------------------+----------------------------+-----------------------------+--------------+------------+----------+----------------------+-----------------------+-----------------------+--------------------+---------------------+-------------------+------------------------+------------------------+---------------------+----------------------+--------------------+--------------------+---------------------+\n",
      "only showing top 20 rows\n",
      "\n"
     ]
    }
   ],
   "source": [
    "company_submission.show()"
   ]
  },
  {
   "cell_type": "markdown",
   "metadata": {},
   "source": [
    "### 2. Data Point Table"
   ]
  },
  {
   "cell_type": "code",
   "execution_count": 27,
   "metadata": {},
   "outputs": [],
   "source": [
    "data_point = spark.read.csv(\"s3://big-data-project-sec/data_point.csv\",header=True,inferSchema=True)"
   ]
  },
  {
   "cell_type": "code",
   "execution_count": 11,
   "metadata": {
    "scrolled": false
   },
   "outputs": [
    {
     "name": "stdout",
     "output_type": "stream",
     "text": [
      "+-------+--------------------+-------------------+------------+--------------------+------------+--------------------+--------------------+----------+----------+------------+------------+-------------+--------+------+--------------------+\n",
      "|    cik|accession_number_int|        filing_date|datapoint_id|      datapoint_name|     version|       segment_label|        segment_hash|start_date|  end_date|period_month|string_value|numeric_value|decimals|  unit|           footnotes|\n",
      "+-------+--------------------+-------------------+------------+--------------------+------------+--------------------+--------------------+----------+----------+------------+------------+-------------+--------+------+--------------------+\n",
      "|1116521|     111652115000023|2015-05-08 00:00:00|   518033296|RetainedEarningsA...|us-gaap/2014|                null|                null|      null|2014-09-30|        null| -4831000000|     -4.831E9|      -6|   USD|                null|\n",
      "|1116521|     111652115000023|2015-05-08 00:00:00|   518033170|OtherComprehensiv...|us-gaap/2014|Research and Deve...|2d31173e-a140-5b9...|2014-10-01|2015-03-31|           6|     3000000|    3000000.0|      -6|   USD|                null|\n",
      "|1116521|     111652115000023|2015-05-08 00:00:00|   518032693|AccretionAmortiza...|us-gaap/2014|                null|                null|2014-10-01|2015-03-31|           6|    -3000000|   -3000000.0|      -6|   USD|                null|\n",
      "|1116521|     111652115000023|2015-05-08 00:00:00|   518032672| SuretyBondsDuration|        null|Surety Bond | Min...|abe4955b-8706-d35...|2014-10-01|2015-03-31|           6|         P3M|         null|    null|  null|                null|\n",
      "| 785786|      78578615000044|2015-11-20 00:00:00|   605237297|ShareBasedCompens...|us-gaap/2015|Performance Share...|4213a470-6f8c-d92...|      null|2015-10-03|        null|           0|          0.0|       0|shares|                null|\n",
      "|1116521|     111652115000023|2015-05-08 00:00:00|   518033219|ProductWarrantyAc...|us-gaap/2014|                null|                null|      null|2015-03-31|        null|    11000000|        1.1E7|      -6|   USD|                null|\n",
      "| 785786|      78578615000044|2015-11-20 00:00:00|   605237206|RestructuringReserve|us-gaap/2015| Employee Severance |4fb50085-4459-748...|      null|2015-10-03|        null|           0|          0.0|      -3|   USD|                null|\n",
      "| 785786|      78578615000044|2015-11-20 00:00:00|   605236508|AssetsNonCurrentO...|        null|                null|                null|      null|2015-10-03|        null|    40300000|       4.03E7|      -5|   USD|                null|\n",
      "|1116521|     111652115000023|2015-05-08 00:00:00|   518032946|         GrossProfit|us-gaap/2014|Unallocated Amoun...|431df8d9-5fb5-f05...|2013-10-01|2014-03-31|           6|   -37000000|       -3.7E7|      -6|   USD|(Note:) ) Unalloc...|\n",
      "| 785786|      78578615000044|2015-11-20 00:00:00|   605237010|LongTermDebtMatur...|us-gaap/2015|                null|                null|      null|2015-10-03|        null|   175000000|       1.75E8|      -3|   USD|                null|\n",
      "| 785786|      78578615000044|2015-11-20 00:00:00|   605237485|UnrecognizedTaxBe...|us-gaap/2015|                null|                null|2013-09-29|2014-09-27|          12|     3810000|    3810000.0|      -3|   USD|                null|\n",
      "| 785786|      78578615000044|2015-11-20 00:00:00|   605236559|AmortizationOfInt...|us-gaap/2015|                null|                null|2012-09-30|2013-09-28|          12|     2066000|    2066000.0|      -3|   USD|                null|\n",
      "| 785786|      78578615000044|2015-11-20 00:00:00|   605236589|CapitalLeaseOblig...|us-gaap/2015|Guadalajara Facil...|e6ff0452-3b1e-395...|      null|2014-06-28|        null|     8000000|    8000000.0|      -5|   USD|                null|\n",
      "| 785786|      78578615000044|2015-11-20 00:00:00|   605236522|SalesRevenueServi...|        null|                null|                null|2014-09-28|2015-10-03|          12|        0.05|         0.05|       2|  Rate|                null|\n",
      "| 785786|      78578615000044|2015-11-20 00:00:00|   605237109|PaymentsToAcquire...|us-gaap/2015|                null|                null|2013-09-29|2014-09-27|          12|    65284000|     6.5284E7|      -3|   USD|                null|\n",
      "|1493174|     149315215004566|2015-09-29 00:00:00|   730236335|BusinessCombinati...|us-gaap/2015|                null|                null|      null|2014-05-09|        null|        1.00|          1.0|    null|  pure|                null|\n",
      "| 785786|      78578615000044|2015-11-20 00:00:00|   605237008|LongTermDebtMatur...|us-gaap/2015|                null|                null|      null|2015-10-03|        null|           0|          0.0|      -3|   USD|                null|\n",
      "|1493174|     149315215004566|2015-09-29 00:00:00|   730236130|InventoryRawMater...|us-gaap/2015|                null|                null|      null|2015-05-31|        null|          34|         34.0|       0|   USD|                null|\n",
      "| 785786|      78578615000044|2015-11-20 00:00:00|   605236729|DeferredTaxAssets...|us-gaap/2015|                null|                null|      null|2015-10-03|        null|     7799000|    7799000.0|      -3|   USD|                null|\n",
      "|1493174|     149315215004566|2015-09-29 00:00:00|   730236054| NotesPayableCurrent|us-gaap/2015|Note Payable Whic...|cadfd028-e582-e31...|      null|2014-05-31|        null|        null|         null|    null|   USD|                null|\n",
      "+-------+--------------------+-------------------+------------+--------------------+------------+--------------------+--------------------+----------+----------+------------+------------+-------------+--------+------+--------------------+\n",
      "only showing top 20 rows\n",
      "\n"
     ]
    }
   ],
   "source": [
    "data_point.show()"
   ]
  },
  {
   "cell_type": "markdown",
   "metadata": {},
   "source": [
    "### 3. Data Point Revision Table"
   ]
  },
  {
   "cell_type": "code",
   "execution_count": 28,
   "metadata": {},
   "outputs": [],
   "source": [
    "data_point_revision = spark.read.csv(\"s3://bigdata-dataset/data_point_revision.csv\",header=True,inferSchema=True)"
   ]
  },
  {
   "cell_type": "code",
   "execution_count": 11,
   "metadata": {},
   "outputs": [
    {
     "name": "stdout",
     "output_type": "stream",
     "text": [
      "+------------+--------------------+-------------------+------------+-------------+\n",
      "|datapoint_id|accession_number_int|        filing_date|string_value|numeric_value|\n",
      "+------------+--------------------+-------------------+------------+-------------+\n",
      "|   989302759|     156459017016031|2017-08-07 00:00:00|   -94000000|       -9.4E7|\n",
      "|  1047640187|     116965217000014|2017-02-16 00:00:00|     1259000|    1259000.0|\n",
      "|   576680812|     119312514298325|2014-08-06 00:00:00|      0.1026|       0.1026|\n",
      "|   462333128|     119312511030543|2011-02-10 00:00:00|  2225000000|      2.225E9|\n",
      "|    48056163|     119312511215824|2011-08-09 00:00:00|       -4.70|         -4.7|\n",
      "|  1050362060|       2678018000015|2018-10-29 00:00:00|   125000000|       1.25E8|\n",
      "|  1050362060|       2678018000012|2018-07-25 00:00:00|    87000000|        8.7E7|\n",
      "|     1297262|     104746911010161|2011-12-21 00:00:00|   127659000|    1.27659E8|\n",
      "|   837494081|     103703816000019|2016-05-19 00:00:00|   114000000|       1.14E8|\n",
      "|   974538926|     156459017012336|2017-06-08 00:00:00|    48882000|     4.8882E7|\n",
      "|  1170412854|      95012311073661|2011-08-05 00:00:00|   212000000|       2.12E8|\n",
      "|    29458940|     119312512081900|2012-02-27 00:00:00|      106609|     106609.0|\n",
      "|   482589912|     128877614000020|2014-02-12 00:00:00|   785000000|       7.85E8|\n",
      "|   673406732|     137647415000044|2015-03-20 00:00:00|       89928|      89928.0|\n",
      "|   622416884|     104746913010692|2013-11-20 00:00:00|   -80292000|    -8.0292E7|\n",
      "|   749290254|     107041216000146|2016-04-28 00:00:00|   -46186000|    -4.6186E7|\n",
      "|   802667393|     143909516000041|2016-02-24 00:00:00|   440410000|     4.4041E8|\n",
      "|   524269037|     157484213000023|2013-12-10 00:00:00|       0.404|        0.404|\n",
      "|  1014186704|       4919617000059|2017-10-30 00:00:00|           0|          0.0|\n",
      "|   445074487|     145257513000015|2013-10-24 00:00:00|    -6600000|   -6600000.0|\n",
      "+------------+--------------------+-------------------+------------+-------------+\n",
      "only showing top 20 rows\n",
      "\n"
     ]
    }
   ],
   "source": [
    "data_point_revision.show()"
   ]
  },
  {
   "cell_type": "markdown",
   "metadata": {},
   "source": [
    "### 4. Data Point Snapshot Table"
   ]
  },
  {
   "cell_type": "code",
   "execution_count": 29,
   "metadata": {},
   "outputs": [],
   "source": [
    "data_point_snapshot = spark.read.csv(\"s3://avecsallybigdata/SEC/Unsaved/2020/06/22/data_point_snapshot.csv\",header=True,inferSchema=True)"
   ]
  },
  {
   "cell_type": "code",
   "execution_count": 13,
   "metadata": {},
   "outputs": [
    {
     "name": "stdout",
     "output_type": "stream",
     "text": [
      "+-------+--------------------+-------------------+------------+--------------------+------------+--------------------+--------------------+----------+----------+------------+------------+-------------+--------+----+---------+------------+\n",
      "|    cik|accession_number_int|        filing_date|datapoint_id|      datapoint_name|     version|       segment_label|        segment_hash|start_date|  end_date|period_month|string_value|numeric_value|decimals|unit|footnotes|revision_num|\n",
      "+-------+--------------------+-------------------+------------+--------------------+------------+--------------------+--------------------+----------+----------+------------+------------+-------------+--------+----+---------+------------+\n",
      "|1488638|     112178113000441|2013-11-19 00:00:00|   245895145|IncomeTaxExpenseB...|us-gaap/2012|                null|                null|2012-01-01|2012-09-30|           9|           0|          0.0|       0| USD|     null|        null|\n",
      "| 773318|     160706215000369|2015-08-18 00:00:00|   597238108|LessValuationDisc...|        null|                null|                null|      null|2012-12-31|        null|       -4776|      -4776.0|       0| USD|     null|        null|\n",
      "| 822818|      82281815000028|2015-11-04 00:00:00|   599906518|NetCashProvidedBy...|us-gaap/2015|Consolidating Adj...|f2a01753-6d2e-9e8...|2015-01-01|2015-09-30|           9|    71182000|     7.1182E7|      -3| USD|     null|        null|\n",
      "| 277058|     114420413068706|2013-12-23 00:00:00|   258010096|LeaseExpirationMo...|        null|Washington II min...|ea6befcd-d744-3c4...|2013-05-01|2013-10-31|           6|     2016-01|         null|    null|null|     null|        null|\n",
      "| 861878|     156459017010259|2017-05-10 00:00:00|   832440471|    DerivativeAssets|us-gaap/2016|                null|                null|      null|2017-03-31|        null|      790000|     790000.0|      -3| USD|     null|        null|\n",
      "|1463258|     119312513098354|2013-03-08 00:00:00|   109739409|ChangeInInvestmen...|        null|     Parent Company |a5420403-62ca-714...|2010-01-01|2010-12-31|          12|    -1855000|   -1855000.0|      -3| USD|     null|        null|\n",
      "| 922358|      92235818000003|2018-03-08 00:00:00|   934380545|PaymentsForProcee...|us-gaap/2017|                null|                null|2017-08-01|2018-01-31|           6|           0|          0.0|      -3| USD|     null|        null|\n",
      "|1507718|     125529414000357|2014-04-21 00:00:00|   356195903|EntityCentralInde...|    dei/2013|                null|                null|2013-12-01|2014-02-28|           3|  0001507718|         null|    null|null|     null|        null|\n",
      "|  25598|       2559816000043|2016-02-29 00:00:00|   650921933|FinancingReceivab...|us-gaap/2015|Retail Sales Finance|29ae87a0-260e-ce6...|2013-01-01|2013-12-31|          12|     9000000|    9000000.0|      -6| USD|     null|           1|\n",
      "| 822818|      82281814000004|2014-03-03 00:00:00|   285317278|            Goodwill|us-gaap/2013|Environmental Ser...|8c1dfbb5-81d2-d2a...|      null|2012-12-28|        null|   174100000|      1.741E8|      -5| USD|     null|        null|\n",
      "|1275158|     127515819000028|2019-05-10 00:00:00|  1110492798|RevenueFromContra...|us-gaap/2018|  Restaurant revenue|2993795a-502a-b62...|2019-01-02|2019-04-02|           3|   108765000|    1.08765E8|      -3| USD|     null|        null|\n",
      "|1171298|     119312513443930|2013-11-15 00:00:00|   241955370|DepreciationDeple...|us-gaap/2013|                null|                null|2013-01-01|2013-09-30|           9|     9755000|    9755000.0|      -3| USD|     null|        null|\n",
      "|1000298|     155837016009574|2016-11-08 00:00:00|   760959487|LiabilitiesFairVa...|us-gaap/2016|Recurring basis |...|07625389-9306-df0...|2015-01-01|2015-09-30|           9|       84000|      84000.0|      -3| USD|     null|        null|\n",
      "| 861878|     156459017017033|2017-08-09 00:00:00|   864052566|AssetsFairValueAd...|us-gaap/2017|Assets and Liabil...|71d0da21-2d26-149...|2017-04-01|2017-06-30|           3|           0|          0.0|    null| USD|     null|        null|\n",
      "|1546958|     107878214000397|2014-03-17 00:00:00|   330000233|NonoperatingIncom...|us-gaap/2013|                null|                null|2012-01-01|2012-12-31|          12|         -50|        -50.0|       0| USD|     null|        null|\n",
      "|  25598|     110465914027656|2014-04-15 00:00:00|   343176118|GainLossOnRepurch...|us-gaap/2013|Operating segment...|d219d206-ffc2-a88...|2011-01-01|2011-12-31|          12|    -3275000|   -3275000.0|      -3| USD|     null|        null|\n",
      "|  25598|       2559818000005|2018-02-21 00:00:00|   916709000|AvailableForSaleS...|us-gaap/2017|    Preferred stocks|9ac41617-8834-862...|      null|2017-12-31|        null|     1000000|    1000000.0|      -6| USD|     null|        null|\n",
      "|1267238|     162828018014005|2018-11-08 00:00:00|  1026780929|PreferredStockDiv...|us-gaap/2018|Total Corporate a...|72602de4-5efd-90c...|2018-01-01|2018-09-30|           9|           0|          0.0|      -5| USD|     null|        null|\n",
      "|1267238|     119312514167325|2014-04-29 00:00:00|   347647125|LoansReceivableCo...|us-gaap/2013|           71 - 80% |d78b6dee-da90-1e1...|      null|2014-03-31|        null|    77969000|     7.7969E7|      -3| USD|     null|        null|\n",
      "|1028918|     102891813000052|2013-05-10 00:00:00|   147015258|CashAndCashEquiva...|us-gaap/2012|Estimated Fair Value|6ed43720-9785-34c...|      null|2013-03-31|        null|    99458000|     9.9458E7|      -3| USD|     null|        null|\n",
      "+-------+--------------------+-------------------+------------+--------------------+------------+--------------------+--------------------+----------+----------+------------+------------+-------------+--------+----+---------+------------+\n",
      "only showing top 20 rows\n",
      "\n"
     ]
    }
   ],
   "source": [
    "data_point_snapshot.show()"
   ]
  },
  {
   "cell_type": "markdown",
   "metadata": {},
   "source": [
    "#### 5. Report Presentation Line Item"
   ]
  },
  {
   "cell_type": "code",
   "execution_count": 14,
   "metadata": {},
   "outputs": [],
   "source": [
    "report_presentation_line_item = spark.read.csv(\"s3://avecsallybigdata/SEC/Unsaved/2020/06/22/property.csv\",header=True,inferSchema=True)"
   ]
  },
  {
   "cell_type": "code",
   "execution_count": 15,
   "metadata": {},
   "outputs": [
    {
     "name": "stdout",
     "output_type": "stream",
     "text": [
      "+--------------------+-------------------+------------------+---------------------+--------------------+--------------------+--------------------+------------+\n",
      "|accession_number_int|section_sequence_id|line_item_sequence|parent_datapoint_name|      datapoint_name|preferred_label_role|     datapoint_label|datapoint_id|\n",
      "+--------------------+-------------------+------------------+---------------------+--------------------+--------------------+--------------------+------------+\n",
      "|     134131819000039|                  6|                15|   StatementLineItems|NewAccountingPron...|          terseLabel|Cumulative effect...|  1163633296|\n",
      "|       2841212000031|                 60|                13| ScheduleOfBusines...|  StatementLineItems|          terseLabel|Statement [Line I...|        null|\n",
      "|     162836919000019|                 37|                 7| SegmentReportingA...|AllocatedSharebas...|          terseLabel|Cassidy Turley de...|  1132113186|\n",
      "|     162836919000019|                 37|                 7| SegmentReportingA...|AllocatedSharebas...|          terseLabel|Cassidy Turley de...|  1132113185|\n",
      "|     162836919000019|                 37|                 7| SegmentReportingA...|AllocatedSharebas...|          terseLabel|Cassidy Turley de...|  1132113184|\n",
      "|     162836919000019|                 37|                 7| SegmentReportingA...|AllocatedSharebas...|          terseLabel|Cassidy Turley de...|  1132113183|\n",
      "|      94576415000046|                  8|                35| NetCashProvidedBy...|ProceedsFromIssua...|          terseLabel|Proceeds from iss...|   576419829|\n",
      "|      94576415000046|                  8|                35| NetCashProvidedBy...|ProceedsFromIssua...|          terseLabel|Proceeds from iss...|   576419828|\n",
      "|     135128518000060|                  6|                32| NetCashProvidedBy...|NetCashProvidedBy...|          totalLabel|Net cash provided...|  1156654270|\n",
      "|     135128518000060|                  6|                32| NetCashProvidedBy...|NetCashProvidedBy...|          totalLabel|Net cash provided...|  1156654271|\n",
      "|     114420419026634|                  6|                26|   StatementLineItems|NetCashProvidedBy...|        verboseLabel|Financing activit...|        null|\n",
      "|      95015912000320|                 11|                 1| UseOfEstimatesAbs...|UseOfEstimatesTex...|        verboseLabel|    Use of Estimates|        null|\n",
      "|      93905719000114|                 81|                14| ShareBasedCompens...|ShareBasedCompens...|          terseLabel|Weighted Average ...|        null|\n",
      "|     137871819000030|                  4|                 2| IncomeStatementAb...|CostOfGoodsAndSer...|          terseLabel|       Cost of sales|  1145417222|\n",
      "|     137871819000030|                  4|                 2| IncomeStatementAb...|CostOfGoodsAndSer...|          terseLabel|       Cost of sales|  1145417224|\n",
      "|     137871819000030|                  4|                 2| IncomeStatementAb...|CostOfGoodsAndSer...|          terseLabel|       Cost of sales|  1145417221|\n",
      "|     137871819000030|                  4|                 2| IncomeStatementAb...|CostOfGoodsAndSer...|          terseLabel|       Cost of sales|  1145417223|\n",
      "|       8631219000035|                 25|                 3| SegmentReportingA...|ReconciliationOfA...|          terseLabel|Asset reconciliat...|        null|\n",
      "|     134131819000039|                 55|                16| ShareBasedCompens...|NumberOfStockBase...|          terseLabel|Number of stock-b...|  1163632437|\n",
      "|     134131819000039|                  4|                36| IncomeStatementAb...|EarningsPerShareB...|          terseLabel|Basic and diluted...|  1163632793|\n",
      "+--------------------+-------------------+------------------+---------------------+--------------------+--------------------+--------------------+------------+\n",
      "only showing top 20 rows\n",
      "\n"
     ]
    }
   ],
   "source": [
    "report_presentation_line_item.show()"
   ]
  },
  {
   "cell_type": "markdown",
   "metadata": {},
   "source": [
    "#### 6. Report Presentation Section Table"
   ]
  },
  {
   "cell_type": "code",
   "execution_count": 9,
   "metadata": {},
   "outputs": [],
   "source": [
    "report_presentation_section = spark.read.csv(\"s3://bigdata-dataset/report_presentation_section.csv\",header=True,inferSchema=True)"
   ]
  },
  {
   "cell_type": "code",
   "execution_count": 31,
   "metadata": {},
   "outputs": [
    {
     "name": "stdout",
     "output_type": "stream",
     "text": [
      "+------+-------------------+--------------------+-------------------+--------------+--------------------------+\n",
      "|   cik|        filing_date|accession_number_int|section_sequence_id|statement_type|report_section_description|\n",
      "+------+-------------------+--------------------+-------------------+--------------+--------------------------+\n",
      "|356028|2017-05-12 00:00:00|      35602817000047|                 26|          null|      Disclosure - Valu...|\n",
      "|356028|2017-05-12 00:00:00|      35602817000047|                 92|          null|      Disclosure - Supp...|\n",
      "|914208|2012-11-01 00:00:00|      91420812000539|                 11|          null|         Disclosure - Debt|\n",
      "|914208|2012-11-01 00:00:00|      91420812000539|                 25|          null|      Disclosure - Debt...|\n",
      "|914208|2012-11-01 00:00:00|      91420812000539|                 28|          null|      Disclosure - Reti...|\n",
      "|914208|2012-11-01 00:00:00|      91420812000539|                 32|          null|      Disclosure - Rela...|\n",
      "|914208|2012-11-01 00:00:00|      91420812000539|                 40|          null|      Disclosure - Inve...|\n",
      "|914329|2013-05-02 00:00:00|      91432913000022|                  8|          null|      Disclosure - Earn...|\n",
      "|914329|2013-05-02 00:00:00|      91432913000022|                 24|          null|      Disclosure - Earn...|\n",
      "|914329|2013-05-02 00:00:00|      91432913000022|                 25|          null|      Disclosure - Stoc...|\n",
      "|914329|2013-05-02 00:00:00|      91432913000022|                 32|          null|      Disclosure - Segm...|\n",
      "|914329|2013-05-02 00:00:00|      91432913000022|                 33|          null|      Disclosure - Rest...|\n",
      "|914329|2013-05-02 00:00:00|      91432913000022|                 58|          null|      Disclosure - Fair...|\n",
      "|920371|2018-08-07 00:00:00|      92037118000123|                  6|           SEP|      Statement - Conde...|\n",
      "|920371|2018-08-07 00:00:00|      92037118000123|                  7|             C|      Statement - Conde...|\n",
      "|920371|2018-08-07 00:00:00|      92037118000123|                 15|          null|      Disclosure - Good...|\n",
      "|929008|2015-05-04 00:00:00|      92900815000016|                  8|          null|      Disclosure - ACQU...|\n",
      "|929008|2015-05-04 00:00:00|      92900815000016|                 26|          null|      Disclosure - ACCO...|\n",
      "|  5513|2017-04-27 00:00:00|        551317000046|                 28|          null|      Disclosure - Segm...|\n",
      "|  5513|2017-04-27 00:00:00|        551317000046|                 30|          null|      Disclosure - Stoc...|\n",
      "+------+-------------------+--------------------+-------------------+--------------+--------------------------+\n",
      "only showing top 20 rows\n",
      "\n"
     ]
    }
   ],
   "source": [
    "report_presentation_section.show()"
   ]
  },
  {
   "cell_type": "markdown",
   "metadata": {},
   "source": [
    "#### 7. Segment"
   ]
  },
  {
   "cell_type": "code",
   "execution_count": 18,
   "metadata": {},
   "outputs": [],
   "source": [
    "segment = spark.read.csv(\"s3://bigdata-dataset/segment.csv\",header=True,inferSchema=True)"
   ]
  },
  {
   "cell_type": "code",
   "execution_count": 19,
   "metadata": {},
   "outputs": [
    {
     "name": "stdout",
     "output_type": "stream",
     "text": [
      "+--------------------+--------------------+\n",
      "|        segment_hash|             segment|\n",
      "+--------------------+--------------------+\n",
      "|02ab5900-a66d-779...|DerivativeInstrum...|\n",
      "|b5c71385-e3a8-f8b...|FiniteLivedIntang...|\n",
      "|2e216841-e8dd-c81...|RelatedPartyTrans...|\n",
      "|8850327f-c51c-510...|CashCashEquivalen...|\n",
      "|bbffc654-d6b3-34d...|FinancingReceivab...|\n",
      "|57a12b46-9248-34f...|ProductOrService=...|\n",
      "|faa580ac-c131-781...|AwardType=Employe...|\n",
      "|04c7e9f9-4f3c-109...|RealEstateAgreeme...|\n",
      "|2bb20be1-e40b-39d...|ConcentrationRisk...|\n",
      "|c5713a36-51ad-fff...|ConcentrationRisk...|\n",
      "|2f74e72d-9506-cd4...|ConcentrationRisk...|\n",
      "|ec766c81-589d-937...|CreditFacility=Re...|\n",
      "|382f5e6c-9cd0-5d8...|LiabilitiesArisin...|\n",
      "|460b7f42-c8fd-4bf...|ScheduleOfShareBa...|\n",
      "|ff93ebe4-4bd7-490...|FairValueByBalanc...|\n",
      "|37e83486-5e34-5fe...|FiniteLivedIntang...|\n",
      "|c7d498c9-8246-80b...|DeferredRevenueAr...|\n",
      "|b6573d0c-fb59-456...|StatementGeograph...|\n",
      "|2929af9c-4b7d-f78...|StatementBusiness...|\n",
      "|291ef1f0-ff88-3f9...|FairValueByAssetC...|\n",
      "+--------------------+--------------------+\n",
      "only showing top 20 rows\n",
      "\n"
     ]
    }
   ],
   "source": [
    "segment.show()"
   ]
  },
  {
   "cell_type": "markdown",
   "metadata": {},
   "source": [
    "#### Install dist plot package"
   ]
  },
  {
   "cell_type": "markdown",
   "metadata": {},
   "source": [
    "\n",
    "#Install from PyPi:\n",
    "\n",
    "\n",
    "#pip install pyspark_dist_explore\n",
    "\n",
    "#Or directly from github:\n",
    "\n",
    "#git clone https://github.com/Bergvca/pyspark_dist_explore.git\n",
    "#cd pyspark_dist_explore\n",
    "#pip install ."
   ]
  },
  {
   "cell_type": "markdown",
   "metadata": {},
   "source": [
    "## **Explanatory Data Analysis**"
   ]
  },
  {
   "cell_type": "markdown",
   "metadata": {},
   "source": [
    "The 7 tables contains numerous information of the company filling data. And by taking some explanatory analysis to our data will help us gain some insights. \n",
    "\n",
    "We are very interested to see the resutls of the following questions: \n",
    "\n",
    "1. What are the top 10 states that have the highest number of public companies over the past years? \n",
    "\n",
    "2. What are the top 20 report sections that appear the most in 10Ks and 10Qs and which statement do they belong to?\n",
    "\n",
    "3. What is the distribution of companies based on fiscal year end month?\n",
    "\n",
    "4. What are the top 10 companies that have the highest current assets in 2018?\n",
    "\n",
    "5. Annual reports of top 5 companies in above list from 2010-02-25 to 2019-02-22?"
   ]
  },
  {
   "cell_type": "markdown",
   "metadata": {},
   "source": [
    "### **1.  Most Popular States for Public Companies**"
   ]
  },
  {
   "cell_type": "code",
   "execution_count": 22,
   "metadata": {},
   "outputs": [],
   "source": [
    "company_submission.createOrReplaceTempView(\"company_submission\")\n",
    "\n",
    "file_type = spark.sql(\"\"\"SELECT document_type, business_address_state\n",
    "FROM company_submission\n",
    "WHERE document_type LIKE '%10-K%' \n",
    "\"\"\").cache()"
   ]
  },
  {
   "cell_type": "code",
   "execution_count": 23,
   "metadata": {
    "scrolled": true
   },
   "outputs": [
    {
     "name": "stdout",
     "output_type": "stream",
     "text": [
      "+-------------+----------------------+\n",
      "|document_type|business_address_state|\n",
      "+-------------+----------------------+\n",
      "|         10-K|                    PA|\n",
      "|         10-K|                    TX|\n",
      "|         10-K|                    NY|\n",
      "|         10-K|                    WI|\n",
      "|         10-K|                    IL|\n",
      "|         10-K|                    CT|\n",
      "|         10-K|                    SD|\n",
      "|         10-K|                    IL|\n",
      "|         10-K|                    TX|\n",
      "|         10-K|                    FL|\n",
      "+-------------+----------------------+\n",
      "only showing top 10 rows\n",
      "\n"
     ]
    }
   ],
   "source": [
    "file_type.show(10)"
   ]
  },
  {
   "cell_type": "code",
   "execution_count": 24,
   "metadata": {},
   "outputs": [],
   "source": [
    "file_type.createOrReplaceTempView(\"file_type\")\n",
    "\n",
    "top_company_states = spark.sql(\"\"\"SELECT business_address_state, COUNT(business_address_state)AS Frequency\n",
    "FROM file_type\n",
    "GROUP BY business_address_state\n",
    "ORDER BY\n",
    "COUNT(business_address_state) DESC\n",
    "limit 10\"\"\").cache()"
   ]
  },
  {
   "cell_type": "code",
   "execution_count": 25,
   "metadata": {
    "scrolled": true
   },
   "outputs": [
    {
     "name": "stdout",
     "output_type": "stream",
     "text": [
      "+----------------------+---------+\n",
      "|business_address_state|Frequency|\n",
      "+----------------------+---------+\n",
      "|                    CA|     8851|\n",
      "|                    NY|     5519|\n",
      "|                    TX|     5066|\n",
      "|                    FL|     3008|\n",
      "|                    MA|     2238|\n",
      "|                    NJ|     2106|\n",
      "|                    PA|     2037|\n",
      "|                    IL|     1883|\n",
      "|                    CO|     1684|\n",
      "|                    NV|     1619|\n",
      "+----------------------+---------+\n",
      "\n"
     ]
    }
   ],
   "source": [
    "top_company_states.show(10)"
   ]
  },
  {
   "cell_type": "code",
   "execution_count": 26,
   "metadata": {},
   "outputs": [
    {
     "data": {
      "text/plain": [
       "175"
      ]
     },
     "execution_count": 26,
     "metadata": {},
     "output_type": "execute_result"
    }
   ],
   "source": [
    "company_submission.select('business_address_state').distinct().count()"
   ]
  },
  {
   "cell_type": "code",
   "execution_count": null,
   "metadata": {},
   "outputs": [],
   "source": [
    "# Convert to Pandas DataFrame  \n",
    "df_pandas = top_company_states.toPandas()\n",
    "\n",
    "# Create a horizontal bar plot\n",
    "df_pandas.plot(kind='barh', x='business_address_state', y='Frequency', colormap='tab20c')\n",
    "plt.xlabel('Count of Annual Report Filings')\n",
    "plt.ylabel('Business States')\n",
    "plt.title('Top 10 Company Business Sates')\n",
    "plt.show()"
   ]
  },
  {
   "cell_type": "code",
   "execution_count": null,
   "metadata": {},
   "outputs": [],
   "source": [
    "spark.conf.set(\"spark.sql.execution.arrow.enabled\", \"true\")\n",
    "df_pandas = top_company_states.toPandas()"
   ]
  },
  {
   "cell_type": "code",
   "execution_count": 47,
   "metadata": {
    "scrolled": false
   },
   "outputs": [
    {
     "data": {
      "text/plain": [
       "Text(0.5, 1.0, 'Top 10 Company Business Sates')"
      ]
     },
     "execution_count": 47,
     "metadata": {},
     "output_type": "execute_result"
    },
    {
     "data": {
      "image/png": "[encoded data removed]",
      "text/plain": [
       "<Figure size 864x360 with 1 Axes>"
      ]
     },
     "metadata": {},
     "output_type": "display_data"
    }
   ],
   "source": [
    "sns.set(style=\"whitegrid\")\n",
    "sns.set_color_codes(\"pastel\")\n",
    "f, ax = plt.subplots(figsize=(12, 5))\n",
    "ax=sns.barplot(x = \"business_address_state\", y = \"Frequency\", data = df_pandas)\n",
    "\n",
    "\n",
    "ax.set(xlim=(0, 10), ylabel=\"Count of Annual Report Filings\", xlabel=\"Business Location\")\n",
    "plt.title('Top 10 Company Business Sates')"
   ]
  },
  {
   "cell_type": "code",
   "execution_count": 2,
   "metadata": {
    "scrolled": true
   },
   "outputs": [],
   "source": [
    "#!pip install update PyArrow #this is to support matplotlib "
   ]
  },
  {
   "cell_type": "markdown",
   "metadata": {},
   "source": [
    "### **2. What are the top 20 report sections that appear the most across 10Ks and 10Qs and which statement do they belong to?**"
   ]
  },
  {
   "cell_type": "code",
   "execution_count": 15,
   "metadata": {},
   "outputs": [],
   "source": [
    "report_presentation_section.createOrReplaceTempView(\"report_presentation_section\")\n",
    "\n",
    "unique_section = spark.sql(\"\"\"SELECT count(distinct report_section_description)\n",
    "FROM report_presentation_section\n",
    "\"\"\").cache()"
   ]
  },
  {
   "cell_type": "code",
   "execution_count": 33,
   "metadata": {},
   "outputs": [
    {
     "name": "stdout",
     "output_type": "stream",
     "text": [
      "+------------------------------------------+\n",
      "|count(DISTINCT report_section_description)|\n",
      "+------------------------------------------+\n",
      "|                                   1170159|\n",
      "+------------------------------------------+\n",
      "\n"
     ]
    }
   ],
   "source": [
    "unique_section.show()"
   ]
  },
  {
   "cell_type": "markdown",
   "metadata": {},
   "source": [
    "There are 1170159 distinct report sections that exist across the submitted financial reports. This large number can be explained by the variation in naming a standard section. For example, Balance Sheet can be listed as `Balance Sheet` or `Consolidated Balance Sheet`."
   ]
  },
  {
   "cell_type": "markdown",
   "metadata": {},
   "source": [
    "Now, let's see which sections are the most common across reports.The higher the frequency of appearance a section has, the more important they might be to financial reporting overall."
   ]
  },
  {
   "cell_type": "code",
   "execution_count": 16,
   "metadata": {},
   "outputs": [],
   "source": [
    "most_used_section_overall = spark.sql(\"\"\"SELECT report_section_description, statement_type, count (report_section_description) as Frequency\n",
    "FROM report_presentation_section\n",
    "group by report_section_description, statement_type\n",
    "order by count (report_section_description) desc\n",
    "\"\"\").cache()\n"
   ]
  },
  {
   "cell_type": "code",
   "execution_count": 17,
   "metadata": {},
   "outputs": [
    {
     "name": "stdout",
     "output_type": "stream",
     "text": [
      "+------------------------------------------------------------------+--------------+---------+\n",
      "|report_section_description                                        |statement_type|Frequency|\n",
      "+------------------------------------------------------------------+--------------+---------+\n",
      "|Document - Document and Entity Information                        |null          |177864   |\n",
      "|Disclosure - Income Taxes                                         |null          |90293    |\n",
      "|Disclosure - Commitments and Contingencies                        |null          |76382    |\n",
      "|Disclosure - Subsequent Events                                    |null          |59427    |\n",
      "|Statement - Consolidated Balance Sheets                           |B             |56226    |\n",
      "|Disclosure - Summary of Significant Accounting Policies           |null          |53734    |\n",
      "|Disclosure - Fair Value Measurements                              |null          |48811    |\n",
      "|Statement - Consolidated Balance Sheets (Parenthetical)           |BP            |45576    |\n",
      "|Disclosure - Summary of Significant Accounting Policies (Policies)|null          |44486    |\n",
      "|Disclosure - Related Party Transactions                           |null          |43762    |\n",
      "|Statement - Consolidated Statements of Cash Flows                 |C             |42851    |\n",
      "|Disclosure - Income Taxes (Tables)                                |null          |39920    |\n",
      "|Disclosure - Fair Value Measurements (Tables)                     |null          |39523    |\n",
      "|Document - Document And Entity Information                        |null          |36005    |\n",
      "|Disclosure - Income Taxes (Details)                               |null          |31936    |\n",
      "|Disclosure - Earnings Per Share                                   |null          |29847    |\n",
      "|Statement - CONSOLIDATED BALANCE SHEETS                           |B             |29697    |\n",
      "|Statement - Condensed Consolidated Balance Sheets                 |B             |29528    |\n",
      "|Disclosure - Basis of Presentation                                |null          |29327    |\n",
      "|Disclosure - Commitments and Contingencies (Tables)               |null          |28535    |\n",
      "+------------------------------------------------------------------+--------------+---------+\n",
      "only showing top 20 rows\n",
      "\n"
     ]
    }
   ],
   "source": [
    "most_used_section_overall.show(20, False)"
   ]
  },
  {
   "cell_type": "markdown",
   "metadata": {},
   "source": [
    "* As we can see from the results above, `Document and Entity Information` is the most common section. This is expected since almost every single financial report will have a section to introduce the company and the purpose of the report. The second most common section in a financial report is `Disclosure - Income Taxes`. Therefore, this may imply that besides the section that includes an introduction of the entity and the purpose of the report, `Income Taxes`, `Commitments and Contingencies`, and `Subsequent Events` are the most essential sections in a report. Within this top 20, the sections that have `Disclosure` in their names give us some clues about the information that investors most care about regarding reporting transparency. \n",
    "\n",
    "* From this top 20, we can also see the most essential/important financial statements. They are Balance Sheet and Statement of Cash Flows, with Balance Sheet ranking higher in the level of importance. (We can see under `statement_type` column, B and BP appear 4 times, with a total section frequency of 161K+ times while C only appears once with a section frequency of 42851 times.)"
   ]
  },
  {
   "cell_type": "code",
   "execution_count": 16,
   "metadata": {},
   "outputs": [],
   "source": [
    "#!conda install -c conda-forge pyarrow"
   ]
  },
  {
   "cell_type": "code",
   "execution_count": 17,
   "metadata": {},
   "outputs": [],
   "source": [
    "#!pip install pyarrow"
   ]
  },
  {
   "cell_type": "code",
   "execution_count": null,
   "metadata": {},
   "outputs": [],
   "source": [
    "# Convert to Pandas DataFrame  \n",
    "df_pandas_2 = most_used_section_overall.toPandas()\n",
    "\n",
    "plot = df_pandas_2[['report_section_description','Frequency' ]].plot(kind = 'bar', x='report_section_description', y='Frequency', legend = None)\n",
    "plt.ylabel('Frequency of Appearance', fontsize = 15)\n",
    "plot.set_xticklabels(plot.get_xticklabels(), rotation=45, horizontalalignment='right', fontsize = 15)\n",
    "plt.title('Top 20 Most Common Report Sections', fontsize = 20)\n",
    "\n",
    "\n",
    "# change the size of the the plot\n",
    "fig = plt.gcf()\n",
    "fig.set_size_inches(15, 7)\n",
    "\n",
    "plt.show()"
   ]
  },
  {
   "cell_type": "code",
   "execution_count": 19,
   "metadata": {},
   "outputs": [
    {
     "data": {
      "text/html": [
       "<div>\n",
       "<style scoped>\n",
       "    .dataframe tbody tr th:only-of-type {\n",
       "        vertical-align: middle;\n",
       "    }\n",
       "\n",
       "    .dataframe tbody tr th {\n",
       "        vertical-align: top;\n",
       "    }\n",
       "\n",
       "    .dataframe thead th {\n",
       "        text-align: right;\n",
       "    }\n",
       "</style>\n",
       "<table border=\"1\" class=\"dataframe\">\n",
       "  <thead>\n",
       "    <tr style=\"text-align: right;\">\n",
       "      <th></th>\n",
       "      <th>report_section_description</th>\n",
       "      <th>statement_type</th>\n",
       "      <th>Frequency</th>\n",
       "    </tr>\n",
       "  </thead>\n",
       "  <tbody>\n",
       "    <tr>\n",
       "      <th>0</th>\n",
       "      <td>Document - Document and Entity Information</td>\n",
       "      <td>None</td>\n",
       "      <td>177864</td>\n",
       "    </tr>\n",
       "    <tr>\n",
       "      <th>1</th>\n",
       "      <td>Disclosure - Income Taxes</td>\n",
       "      <td>None</td>\n",
       "      <td>90293</td>\n",
       "    </tr>\n",
       "    <tr>\n",
       "      <th>2</th>\n",
       "      <td>Disclosure - Commitments and Contingencies</td>\n",
       "      <td>None</td>\n",
       "      <td>76382</td>\n",
       "    </tr>\n",
       "    <tr>\n",
       "      <th>3</th>\n",
       "      <td>Disclosure - Subsequent Events</td>\n",
       "      <td>None</td>\n",
       "      <td>59427</td>\n",
       "    </tr>\n",
       "    <tr>\n",
       "      <th>4</th>\n",
       "      <td>Statement - Consolidated Balance Sheets</td>\n",
       "      <td>B</td>\n",
       "      <td>56226</td>\n",
       "    </tr>\n",
       "    <tr>\n",
       "      <th>...</th>\n",
       "      <td>...</td>\n",
       "      <td>...</td>\n",
       "      <td>...</td>\n",
       "    </tr>\n",
       "    <tr>\n",
       "      <th>1170490</th>\n",
       "      <td>Disclosure - Property, Plant and Equipment (Ta...</td>\n",
       "      <td>None</td>\n",
       "      <td>1</td>\n",
       "    </tr>\n",
       "    <tr>\n",
       "      <th>1170491</th>\n",
       "      <td>Disclosure - Share-Based Compensation Deferred...</td>\n",
       "      <td>None</td>\n",
       "      <td>1</td>\n",
       "    </tr>\n",
       "    <tr>\n",
       "      <th>1170492</th>\n",
       "      <td>Disclosure - Employee Benefit Plans (Summary O...</td>\n",
       "      <td>None</td>\n",
       "      <td>1</td>\n",
       "    </tr>\n",
       "    <tr>\n",
       "      <th>1170493</th>\n",
       "      <td>Disclosure - Segments Reporting (Details Textual)</td>\n",
       "      <td>None</td>\n",
       "      <td>1</td>\n",
       "    </tr>\n",
       "    <tr>\n",
       "      <th>1170494</th>\n",
       "      <td>Disclosure - Note 6 - Debt and Capital Leases ...</td>\n",
       "      <td>None</td>\n",
       "      <td>1</td>\n",
       "    </tr>\n",
       "  </tbody>\n",
       "</table>\n",
       "<p>1170495 rows × 3 columns</p>\n",
       "</div>"
      ],
      "text/plain": [
       "                                report_section_description statement_type  \\\n",
       "0               Document - Document and Entity Information           None   \n",
       "1                                Disclosure - Income Taxes           None   \n",
       "2               Disclosure - Commitments and Contingencies           None   \n",
       "3                           Disclosure - Subsequent Events           None   \n",
       "4                  Statement - Consolidated Balance Sheets              B   \n",
       "...                                                    ...            ...   \n",
       "1170490  Disclosure - Property, Plant and Equipment (Ta...           None   \n",
       "1170491  Disclosure - Share-Based Compensation Deferred...           None   \n",
       "1170492  Disclosure - Employee Benefit Plans (Summary O...           None   \n",
       "1170493  Disclosure - Segments Reporting (Details Textual)           None   \n",
       "1170494  Disclosure - Note 6 - Debt and Capital Leases ...           None   \n",
       "\n",
       "         Frequency  \n",
       "0           177864  \n",
       "1            90293  \n",
       "2            76382  \n",
       "3            59427  \n",
       "4            56226  \n",
       "...            ...  \n",
       "1170490          1  \n",
       "1170491          1  \n",
       "1170492          1  \n",
       "1170493          1  \n",
       "1170494          1  \n",
       "\n",
       "[1170495 rows x 3 columns]"
      ]
     },
     "execution_count": 19,
     "metadata": {},
     "output_type": "execute_result"
    }
   ],
   "source": [
    "df_pandas_2 = most_used_section_overall.toPandas()\n",
    "df_pandas_2"
   ]
  },
  {
   "cell_type": "markdown",
   "metadata": {},
   "source": [
    "### **3. What is the distribution of companies based on fiscal year end month?**"
   ]
  },
  {
   "cell_type": "markdown",
   "metadata": {},
   "source": [
    "* `Fiscal_year_end_month` is the indicator of the end of a business operations cycle for each type of business or industry. For example, if the company is in the retail business, then it is reasonable to set a fiscal year end date after the Holiday season (probably December 30th). While for a pooling service company, for example, the business cycle ends at the end of the summer. Thus, it would be reasonable for the company to set the fiscal year end date on September 30th. \n",
    "* The distribution of companies across months will present insights into what business cycles are the most prominent across 12.6K+ companies that submitted financial filings to the SEC over the last 10 years."
   ]
  },
  {
   "cell_type": "code",
   "execution_count": null,
   "metadata": {},
   "outputs": [],
   "source": [
    "fy_end_month = spark.sql(\"\"\"select current_fiscal_year_end_month, count(distinct company_name) as Number_of_Companies\n",
    "from (select * from company_submission where current_fiscal_year_end_month is not null and current_fiscal_year_end_month != 0)\n",
    "group by current_fiscal_year_end_month order by current_fiscal_year_end_month\n",
    "\"\"\").cache()"
   ]
  },
  {
   "cell_type": "code",
   "execution_count": 14,
   "metadata": {},
   "outputs": [
    {
     "name": "stdout",
     "output_type": "stream",
     "text": [
      "+-----------------------------+-------------------+\n",
      "|current_fiscal_year_end_month|Number_of_Companies|\n",
      "+-----------------------------+-------------------+\n",
      "|                            1|                410|\n",
      "|                            2|                235|\n",
      "|                            3|               1003|\n",
      "|                            4|                296|\n",
      "|                            5|                270|\n",
      "|                            6|               1054|\n",
      "|                            7|                273|\n",
      "|                            8|                304|\n",
      "|                            9|                926|\n",
      "|                           10|                314|\n",
      "|                           11|                224|\n",
      "|                           12|              11644|\n",
      "+-----------------------------+-------------------+\n",
      "\n"
     ]
    }
   ],
   "source": [
    "fy_end_month.show()"
   ]
  },
  {
   "cell_type": "code",
   "execution_count": 15,
   "metadata": {},
   "outputs": [
    {
     "name": "stderr",
     "output_type": "stream",
     "text": [
      "/usr/lib/spark/python/pyspark/sql/dataframe.py:2103: UserWarning: toPandas attempted Arrow optimization because 'spark.sql.execution.arrow.enabled' is set to true; however, failed by the reason below:\n",
      "  PyArrow >= 0.8.0 must be installed; however, it was not found.\n",
      "Attempting non-optimization as 'spark.sql.execution.arrow.fallback.enabled' is set to true.\n",
      "  warnings.warn(msg)\n"
     ]
    }
   ],
   "source": [
    "# Convert to Pandas DataFrame  \n",
    "df_pandas_3 = fy_end_month.toPandas()\n",
    "\n",
    "plot = df_pandas_3.plot(kind = 'bar', x='current_fiscal_year_end_month', y='Number_of_Companies', legend = None)\n",
    "plt.ylabel('Number of Companies', fontsize = 15)\n",
    "plot.xlabel('Month', fontsize = 15)\n",
    "plt.title('Distribution of Companies based on FY End Month', fontsize = 20)\n",
    "\n",
    "\n",
    "# change the size of the the plot\n",
    "fig = plt.gcf()\n",
    "fig.set_size_inches(15, 7)\n",
    "\n",
    "plt.show()"
   ]
  },
  {
   "cell_type": "markdown",
   "metadata": {},
   "source": [
    "* The result shows that the majority of companies chose December as the fiscal_year_end_month. The second, third, and fourth most popular month to end the fiscal year belong to June, March and September, respectively. We can see that business cycles are often quite in sync with the annual quarter division as March marks the end of Q1, June marks the end of Q2, September marks the end of Q3, and December marks the end of Q4. \n",
    "* Besides months that are the end of the quarters, January is the fiscal_year_end_month with the most public companies."
   ]
  },
  {
   "cell_type": "markdown",
   "metadata": {},
   "source": [
    "### **4. Top 10 companies have highest current assets for the year 2018**"
   ]
  },
  {
   "cell_type": "code",
   "execution_count": 22,
   "metadata": {},
   "outputs": [],
   "source": [
    "company_submission.createOrReplaceTempView(\"comp_sub\")\n",
    "data_point.createOrReplaceTempView(\"data_p\")"
   ]
  },
  {
   "cell_type": "code",
   "execution_count": 23,
   "metadata": {},
   "outputs": [],
   "source": [
    "top10_assest = spark.sql(\"\"\" SELECT distinct cik, string_value, end_date, numeric_value\n",
    "FROM data_p\n",
    "where datapoint_name = 'AssetsCurrent'\n",
    "AND end_date = cast('2018-12-31' AS DATE)\n",
    "AND string_value > 9000000\n",
    "ORDER BY numeric_value DESC\n",
    "limit 10\n",
    "\"\"\").cache()"
   ]
  },
  {
   "cell_type": "code",
   "execution_count": 24,
   "metadata": {
    "scrolled": true
   },
   "outputs": [
    {
     "name": "stdout",
     "output_type": "stream",
     "text": [
      "+-------+------------+----------+-------------+\n",
      "|    cik|string_value|  end_date|numeric_value|\n",
      "+-------+------------+----------+-------------+\n",
      "|1110607|     9990000|2018-12-31|    9990000.0|\n",
      "| 936446|     9973376|2018-12-31|    9973376.0|\n",
      "| 832488|     9969000|2018-12-31|    9969000.0|\n",
      "|1624512|     9964658|2018-12-31|    9964658.0|\n",
      "| 744825|     9946000|2018-12-31|    9946000.0|\n",
      "|1134115|     9928115|2018-12-31|    9928115.0|\n",
      "| 728387|     9820000|2018-12-31|    9820000.0|\n",
      "| 758938|     9767000|2018-12-31|    9767000.0|\n",
      "| 943034|     9765000|2018-12-31|    9765000.0|\n",
      "| 320575|     9704000|2018-12-31|    9704000.0|\n",
      "+-------+------------+----------+-------------+\n",
      "\n"
     ]
    }
   ],
   "source": [
    "top10_assest.show(10)"
   ]
  },
  {
   "cell_type": "code",
   "execution_count": 25,
   "metadata": {},
   "outputs": [],
   "source": [
    "top10_assest.createOrReplaceTempView(\"top_assest\")"
   ]
  },
  {
   "cell_type": "code",
   "execution_count": 26,
   "metadata": {},
   "outputs": [],
   "source": [
    "top10_comp = spark.sql(\"\"\" SELECT distinct a.company_name, b.numeric_value as current_assest\n",
    "FROM comp_sub as a right join top_assest as b\n",
    "on a.cik = b.cik\n",
    "limit 10\n",
    "\"\"\").cache()"
   ]
  },
  {
   "cell_type": "code",
   "execution_count": 27,
   "metadata": {},
   "outputs": [
    {
     "name": "stdout",
     "output_type": "stream",
     "text": [
      "+------------------------------------+--------------+\n",
      "|company_name                        |current_assest|\n",
      "+------------------------------------+--------------+\n",
      "|DEEP DOWN, INC.                     |9990000.0     |\n",
      "|AMERINAC HOLDING CORP.              |9973376.0     |\n",
      "|PRECISION AEROSPACE COMPONENTS, INC.|9973376.0     |\n",
      "|MAM SOFTWARE GROUP, INC.            |9969000.0     |\n",
      "|BOXLIGHT CORP                       |9964658.0     |\n",
      "|AMERICAN SHARED HOSPITAL SERVICES   |9946000.0     |\n",
      "|INTERNATIONAL TOWER HILL MINES LTD  |9928115.0     |\n",
      "|ISORAY, INC.                        |9820000.0     |\n",
      "|QUALSTAR CORP                       |9767000.0     |\n",
      "|IMAGE SENSING SYSTEMS INC           |9765000.0     |\n",
      "+------------------------------------+--------------+\n",
      "\n"
     ]
    }
   ],
   "source": [
    "top10_comp.show(10, False)"
   ]
  },
  {
   "cell_type": "markdown",
   "metadata": {},
   "source": [
    "### **5. Annual reports of top 5 companies in above list from 2010-02-25 to 2019-02-22**"
   ]
  },
  {
   "cell_type": "code",
   "execution_count": 28,
   "metadata": {},
   "outputs": [],
   "source": [
    "deepdown_annual_report = spark.sql(\"\"\" \n",
    "SELECT *\n",
    "FROM comp_sub\n",
    "WHERE company_name LIKE '%DEEP DOWN, INC%'\n",
    "AND document_type = '10-K'\n",
    "ORDER BY filing_date DESC\n",
    "\"\"\").cache()"
   ]
  },
  {
   "cell_type": "code",
   "execution_count": 29,
   "metadata": {
    "scrolled": false
   },
   "outputs": [
    {
     "name": "stdout",
     "output_type": "stream",
     "text": [
      "+--------------------+--------------------+-------+---------------+-------------------+-------------+------------------------+----------------------------+--------------------------+----------------------------+-----------------------------+--------------+------------+----------+----------------------+-----------------------+-----------------------+--------------------+---------------------+-------------------+------------------------+------------------------+---------------------+----------------------+--------------------+--------------------+---------------------+\n",
      "|accession_number_int|    accession_number|    cik|   company_name|        filing_date|document_type|document_period_end_date|current_fiscal_year_end_date|document_fiscal_year_focus|document_fiscal_period_focus|current_fiscal_year_end_month|amendment_flag|assigned_sic|irs_number|state_of_incorporation|mailing_address_street1|mailing_address_street2|mailing_address_city|mailing_address_state|mailing_address_zip|business_address_street1|business_address_street2|business_address_city|business_address_state|business_address_zip|mailing_phone_number|business_phone_number|\n",
      "+--------------------+--------------------+-------+---------------+-------------------+-------------+------------------------+----------------------------+--------------------------+----------------------------+-----------------------------+--------------+------------+----------+----------------------+-----------------------+-----------------------+--------------------+---------------------+-------------------+------------------------+------------------------+---------------------+----------------------+--------------------+--------------------+---------------------+\n",
      "|     168316819001057|0001683168-19-001057|1110607|DEEP DOWN, INC.|2019-04-16 00:00:00|         10-K|     2018-12-31 00:00:00|                     --12-31|                      2018|                          FY|                           12|         false|        3533|752263732 |                    NV|            PO BOX 1389|                   null|              CROSBY|                   TX|         77532-1389|             PO BOX 1389|                    null|               CROSBY|                    TX|          77532-1389|                null|       (281) 517-5000|\n",
      "|     168316818000784|0001683168-18-000784|1110607|DEEP DOWN, INC.|2018-03-28 00:00:00|         10-K|     2017-12-31 00:00:00|                     --12-31|                      2017|                          FY|                           12|         false|        3533|752263732 |                    NV|   8827 W. SAM HOUST...|              SUITE 100|             HOUSTON|                   TX|              77040|    8827 W. SAM HOUST...|               SUITE 100|              HOUSTON|                    TX|               77040|                null|       (281) 517-5000|\n",
      "|     168316817000727|0001683168-17-000727|1110607|DEEP DOWN, INC.|2017-03-31 00:00:00|         10-K|     2016-12-31 00:00:00|                     --12-31|                      2016|                          FY|                           12|         false|        3533|752263732 |                    NV|   8827 W. SAM HOUST...|              SUITE 100|             HOUSTON|                   TX|              77040|    8827 W. SAM HOUST...|               SUITE 100|              HOUSTON|                    TX|               77040|                null|         (281) 517-50|\n",
      "|     101968716005611|0001019687-16-005611|1110607|DEEP DOWN, INC.|2016-03-29 00:00:00|         10-K|     2015-12-31 00:00:00|                     --12-31|                      2015|                          FY|                           12|         false|        3533|752263732 |                    NV|   8827 W. SAM HOUST...|              SUITE 100|             HOUSTON|                   TX|              77040|    8827 W. SAM HOUST...|               SUITE 100|              HOUSTON|                    TX|               77040|                null|         (281) 517-50|\n",
      "+--------------------+--------------------+-------+---------------+-------------------+-------------+------------------------+----------------------------+--------------------------+----------------------------+-----------------------------+--------------+------------+----------+----------------------+-----------------------+-----------------------+--------------------+---------------------+-------------------+------------------------+------------------------+---------------------+----------------------+--------------------+--------------------+---------------------+\n",
      "only showing top 4 rows\n",
      "\n"
     ]
    }
   ],
   "source": [
    "deepdown_annual_report.show(4)"
   ]
  },
  {
   "cell_type": "code",
   "execution_count": 30,
   "metadata": {},
   "outputs": [],
   "source": [
    "amerinac_annual_report = spark.sql(\"\"\" \n",
    "SELECT *\n",
    "FROM comp_sub\n",
    "WHERE company_name LIKE '%AMERINAC HOLDING CORP%'\n",
    "AND document_type = '10-K'\n",
    "ORDER BY filing_date DESC\n",
    "\"\"\").cache()"
   ]
  },
  {
   "cell_type": "code",
   "execution_count": 31,
   "metadata": {
    "scrolled": false
   },
   "outputs": [
    {
     "name": "stdout",
     "output_type": "stream",
     "text": [
      "+--------------------+--------------------+------+--------------------+-------------------+-------------+------------------------+----------------------------+--------------------------+----------------------------+-----------------------------+--------------+------------+----------+----------------------+-----------------------+-----------------------+--------------------+---------------------+-------------------+------------------------+------------------------+---------------------+----------------------+--------------------+--------------------+---------------------+\n",
      "|accession_number_int|    accession_number|   cik|        company_name|        filing_date|document_type|document_period_end_date|current_fiscal_year_end_date|document_fiscal_year_focus|document_fiscal_period_focus|current_fiscal_year_end_month|amendment_flag|assigned_sic|irs_number|state_of_incorporation|mailing_address_street1|mailing_address_street2|mailing_address_city|mailing_address_state|mailing_address_zip|business_address_street1|business_address_street2|business_address_city|business_address_state|business_address_zip|mailing_phone_number|business_phone_number|\n",
      "+--------------------+--------------------+------+--------------------+-------------------+-------------+------------------------+----------------------------+--------------------------+----------------------------+-----------------------------+--------------+------------+----------+----------------------+-----------------------+-----------------------+--------------------+---------------------+-------------------+------------------------+------------------------+---------------------+----------------------+--------------------+--------------------+---------------------+\n",
      "|     147793219001192|0001477932-19-001192|936446|AMERINAC HOLDING ...|2019-03-26 00:00:00|         10-K|     2018-12-31 00:00:00|                     --12-31|                      2018|                          FY|                           12|         false|        5072|204763096 |                    DE|   5936 STATE ROUTE 159|                   null|         CHILLICOTHE|                   OH|              45601|    5936 STATE ROUTE 159|                    null|          CHILLICOTHE|                    OH|               45601|                null|         614-836-1050|\n",
      "|     147793218001462|0001477932-18-001462|936446|AMERINAC HOLDING ...|2018-03-28 00:00:00|         10-K|     2017-12-31 00:00:00|                     --12-31|                      2017|                          FY|                           12|         false|        5072|204763096 |                    DE|   5936 STATE ROUTE 159|                   null|         CHILLICOTHE|                   OH|              45601|    5936 STATE ROUTE 159|                    null|          CHILLICOTHE|                    OH|               45601|                null|         614-836-1050|\n",
      "+--------------------+--------------------+------+--------------------+-------------------+-------------+------------------------+----------------------------+--------------------------+----------------------------+-----------------------------+--------------+------------+----------+----------------------+-----------------------+-----------------------+--------------------+---------------------+-------------------+------------------------+------------------------+---------------------+----------------------+--------------------+--------------------+---------------------+\n",
      "\n"
     ]
    }
   ],
   "source": [
    "amerinac_annual_report.show(5)"
   ]
  },
  {
   "cell_type": "code",
   "execution_count": 32,
   "metadata": {},
   "outputs": [],
   "source": [
    "precision_annual_report = spark.sql(\"\"\" \n",
    "SELECT *\n",
    "FROM comp_sub\n",
    "WHERE company_name LIKE '%PRECISION AEROSPACE COMPONENTS, INC%'\n",
    "AND document_type = '10-K'\n",
    "ORDER BY filing_date DESC\n",
    "\"\"\").cache()"
   ]
  },
  {
   "cell_type": "code",
   "execution_count": 33,
   "metadata": {},
   "outputs": [
    {
     "name": "stdout",
     "output_type": "stream",
     "text": [
      "+--------------------+--------------------+------+--------------------+-------------------+-------------+------------------------+----------------------------+--------------------------+----------------------------+-----------------------------+--------------+------------+----------+----------------------+-----------------------+-----------------------+--------------------+---------------------+-------------------+------------------------+------------------------+---------------------+----------------------+--------------------+--------------------+---------------------+\n",
      "|accession_number_int|    accession_number|   cik|        company_name|        filing_date|document_type|document_period_end_date|current_fiscal_year_end_date|document_fiscal_year_focus|document_fiscal_period_focus|current_fiscal_year_end_month|amendment_flag|assigned_sic|irs_number|state_of_incorporation|mailing_address_street1|mailing_address_street2|mailing_address_city|mailing_address_state|mailing_address_zip|business_address_street1|business_address_street2|business_address_city|business_address_state|business_address_zip|mailing_phone_number|business_phone_number|\n",
      "+--------------------+--------------------+------+--------------------+-------------------+-------------+------------------------+----------------------------+--------------------------+----------------------------+-----------------------------+--------------+------------+----------+----------------------+-----------------------+-----------------------+--------------------+---------------------+-------------------+------------------------+------------------------+---------------------+----------------------+--------------------+--------------------+---------------------+\n",
      "|     147793217001417|0001477932-17-001417|936446|PRECISION AEROSPA...|2017-03-31 00:00:00|         10-K|     2016-12-31 00:00:00|                     --12-31|                      2016|                          FY|                           12|         false|        5072|204763096 |                    DE|          351 CAMER DR.|                   null|            BENSALEM|                   PA|              19020|           351 CAMER DR.|                    null|             BENSALEM|                    PA|               19020|                null|         718- 356-150|\n",
      "|     147793216010586|0001477932-16-010586|936446|PRECISION AEROSPA...|2016-05-24 00:00:00|         10-K|     2015-12-31 00:00:00|                     --12-31|                      2015|                          FY|                           12|         false|        5072|204763096 |                    DE|          351 CAMER DR.|                   null|            BENSALEM|                   PA|              19020|           351 CAMER DR.|                    null|             BENSALEM|                    PA|               19020|                null|         718- 356-150|\n",
      "|     147793215007739|0001477932-15-007739|936446|PRECISION AEROSPA...|2015-12-22 00:00:00|         10-K|     2014-12-31 00:00:00|                     --12-31|                      2014|                          FY|                           12|         false|        5072|204763096 |                    DE|          351 CAMER DR.|                   null|            BENSALEM|                   PA|              19020|           351 CAMER DR.|                    null|             BENSALEM|                    PA|               19020|                null|         718- 356-150|\n",
      "|     112178113000041|0001121781-13-000041|936446|PRECISION AEROSPA...|2013-03-29 00:00:00|         10-K|     2012-12-31 00:00:00|                     --12-31|                      2012|                          FY|                           12|         false|        5072|204763096 |                  null|          351 CAMER DR.|                   null|            BENSALEM|                   PA|              19020|           351 CAMER DR.|                    null|             BENSALEM|                    PA|               19020|                null|         718- 356-150|\n",
      "+--------------------+--------------------+------+--------------------+-------------------+-------------+------------------------+----------------------------+--------------------------+----------------------------+-----------------------------+--------------+------------+----------+----------------------+-----------------------+-----------------------+--------------------+---------------------+-------------------+------------------------+------------------------+---------------------+----------------------+--------------------+--------------------+---------------------+\n",
      "only showing top 4 rows\n",
      "\n"
     ]
    }
   ],
   "source": [
    "precision_annual_report.show(4)"
   ]
  },
  {
   "cell_type": "code",
   "execution_count": 34,
   "metadata": {},
   "outputs": [],
   "source": [
    "mam_annual_report = spark.sql(\"\"\" \n",
    "SELECT *\n",
    "FROM comp_sub\n",
    "WHERE company_name LIKE '%MAM SOFTWARE GROUP, INC%'\n",
    "AND document_type = '10-K'\n",
    "ORDER BY filing_date DESC\n",
    "\"\"\").cache()"
   ]
  },
  {
   "cell_type": "code",
   "execution_count": 35,
   "metadata": {
    "scrolled": false
   },
   "outputs": [
    {
     "name": "stdout",
     "output_type": "stream",
     "text": [
      "+--------------------+--------------------+------+--------------------+-------------------+-------------+------------------------+----------------------------+--------------------------+----------------------------+-----------------------------+--------------+------------+----------+----------------------+-----------------------+-----------------------+--------------------+---------------------+-------------------+------------------------+------------------------+---------------------+----------------------+--------------------+--------------------+---------------------+\n",
      "|accession_number_int|    accession_number|   cik|        company_name|        filing_date|document_type|document_period_end_date|current_fiscal_year_end_date|document_fiscal_year_focus|document_fiscal_period_focus|current_fiscal_year_end_month|amendment_flag|assigned_sic|irs_number|state_of_incorporation|mailing_address_street1|mailing_address_street2|mailing_address_city|mailing_address_state|mailing_address_zip|business_address_street1|business_address_street2|business_address_city|business_address_state|business_address_zip|mailing_phone_number|business_phone_number|\n",
      "+--------------------+--------------------+------+--------------------+-------------------+-------------+------------------------+----------------------------+--------------------------+----------------------------+-----------------------------+--------------+------------+----------+----------------------+-----------------------+-----------------------+--------------------+---------------------+-------------------+------------------------+------------------------+---------------------+----------------------+--------------------+--------------------+---------------------+\n",
      "|     143774918017055|0001437749-18-017055|832488|MAM SOFTWARE GROU...|2018-09-14 00:00:00|         10-K|     2018-06-30 00:00:00|                     --06-30|                      2018|                          FY|                            6|         false|        7372|841108035 |                    DE|   TWO VALLEY SQUARE...|   512 TOWNSHIP LINE...|           BLUE BELL|                   PA|              19422|    TWO VALLEY SQUARE...|    512 TOWNSHIP LINE...|            BLUE BELL|                    PA|               19422|                null|         610-336-9045|\n",
      "|     143774917016462|0001437749-17-016462|832488|MAM SOFTWARE GROU...|2017-09-28 00:00:00|         10-K|     2017-06-30 00:00:00|                     --06-30|                      2017|                          FY|                            6|         false|        7372|841108035 |                    DE|   TWO VALLEY SQUARE...|   512 TOWNSHIP LINE...|           BLUE BELL|                   PA|              19422|    TWO VALLEY SQUARE...|    512 TOWNSHIP LINE...|            BLUE BELL|                    PA|               19422|                null|         610-336-9045|\n",
      "|     143774916039131|0001437749-16-039131|832488|MAM SOFTWARE GROU...|2016-09-26 00:00:00|         10-K|     2016-06-30 00:00:00|                     --06-30|                      2016|                          FY|                            6|         false|        7372|841108035 |                    DE|   MAPLE PARK, MAPLE...|             TANKERSLEY|            BARNSLEY|                   X0|            S75 3DP|    MAPLE PARK, MAPLE...|              TANKERSLEY|             BARNSLEY|                    X0|             S75 3DP|                null|         011-44-124-4|\n",
      "|     114420415056353|0001144204-15-056353|832488|MAM SOFTWARE GROU...|2015-09-24 00:00:00|         10-K|     2015-06-30 00:00:00|                     --06-30|                      2015|                          FY|                            6|         false|        7372|841108035 |                    DE|   MAPLE PARK, MAPLE...|             TANKERSLEY|            BARNSLEY|                   X0|            S75 3DP|    MAPLE PARK, MAPLE...|              TANKERSLEY|             BARNSLEY|                    X0|             S75 3DP|                null|         011-44-124-4|\n",
      "+--------------------+--------------------+------+--------------------+-------------------+-------------+------------------------+----------------------------+--------------------------+----------------------------+-----------------------------+--------------+------------+----------+----------------------+-----------------------+-----------------------+--------------------+---------------------+-------------------+------------------------+------------------------+---------------------+----------------------+--------------------+--------------------+---------------------+\n",
      "only showing top 4 rows\n",
      "\n"
     ]
    }
   ],
   "source": [
    "mam_annual_report.show(4)"
   ]
  },
  {
   "cell_type": "code",
   "execution_count": 36,
   "metadata": {},
   "outputs": [],
   "source": [
    "boxlight_annual_report = spark.sql(\"\"\" \n",
    "SELECT *\n",
    "FROM comp_sub\n",
    "WHERE company_name LIKE '%BOXLIGHT CORP%'\n",
    "AND document_type = '10-K'\n",
    "ORDER BY filing_date DESC\n",
    "\"\"\").cache()"
   ]
  },
  {
   "cell_type": "code",
   "execution_count": 37,
   "metadata": {},
   "outputs": [
    {
     "name": "stdout",
     "output_type": "stream",
     "text": [
      "+--------------------+--------------------+-------+-------------+-------------------+-------------+------------------------+----------------------------+--------------------------+----------------------------+-----------------------------+--------------+------------+----------+----------------------+-----------------------+-----------------------+--------------------+---------------------+-------------------+------------------------+------------------------+---------------------+----------------------+--------------------+--------------------+---------------------+\n",
      "|accession_number_int|    accession_number|    cik| company_name|        filing_date|document_type|document_period_end_date|current_fiscal_year_end_date|document_fiscal_year_focus|document_fiscal_period_focus|current_fiscal_year_end_month|amendment_flag|assigned_sic|irs_number|state_of_incorporation|mailing_address_street1|mailing_address_street2|mailing_address_city|mailing_address_state|mailing_address_zip|business_address_street1|business_address_street2|business_address_city|business_address_state|business_address_zip|mailing_phone_number|business_phone_number|\n",
      "+--------------------+--------------------+-------+-------------+-------------------+-------------+------------------------+----------------------------+--------------------------+----------------------------+-----------------------------+--------------+------------+----------+----------------------+-----------------------+-----------------------+--------------------+---------------------+-------------------+------------------------+------------------------+---------------------+----------------------+--------------------+--------------------+---------------------+\n",
      "|     149315219004118|0001493152-19-004118|1624512|BOXLIGHT CORP|2019-03-28 00:00:00|         10-K|     2018-12-31 00:00:00|                     --12-31|                      2018|                          FY|                           12|         false|        3861|000000000 |                    NV|   1045 PROGRESS CIRCLE|                   null|       LAWRENCEVILLE|                   GA|              30043|    1045 PROGRESS CIRCLE|                    null|        LAWRENCEVILLE|                    GA|               30043|                null|         404-891-1122|\n",
      "|     149315218004493|0001493152-18-004493|1624512|BOXLIGHT CORP|2018-04-02 00:00:00|         10-K|     2017-12-31 00:00:00|                     --12-31|                      2017|                          FY|                           12|         false|        3861|000000000 |                  null|   1045 PROGRESS CIRCLE|                   null|       LAWRENCEVILLE|                   GA|              30043|    1045 PROGRESS CIRCLE|                    null|        LAWRENCEVILLE|                    GA|               30043|                null|         404-891-1122|\n",
      "+--------------------+--------------------+-------+-------------+-------------------+-------------+------------------------+----------------------------+--------------------------+----------------------------+-----------------------------+--------------+------------+----------+----------------------+-----------------------+-----------------------+--------------------+---------------------+-------------------+------------------------+------------------------+---------------------+----------------------+--------------------+--------------------+---------------------+\n",
      "\n"
     ]
    }
   ],
   "source": [
    "boxlight_annual_report.show()"
   ]
  },
  {
   "cell_type": "markdown",
   "metadata": {},
   "source": [
    "## **Machine Learning Model**"
   ]
  },
  {
   "cell_type": "code",
   "execution_count": null,
   "metadata": {},
   "outputs": [],
   "source": [
    "import datetime\n",
    "from pyspark.sql.functions import year, month, dayofmonth\n",
    "from pyspark.sql.functions import col"
   ]
  },
  {
   "cell_type": "code",
   "execution_count": null,
   "metadata": {},
   "outputs": [],
   "source": [
    "temp = data_point_snapshot.select(data_point_snapshot.datapoint_name,data_point_snapshot.filing_date,data_point_snapshot.cik,data_point_snapshot.string_value)\n",
    "\n",
    "temp = temp.select(\n",
    "    year(\"filing_date\").alias('year'),\n",
    "    temp.datapoint_name,\n",
    "    temp.cik,\n",
    "    temp.string_value)\n",
    "\n",
    "filterA = temp.year == 2019\n",
    "filterB = temp.datapoint_name == \"Assets\"\n",
    "filterC = temp.datapoint_name == \"CashAndCashEquivalentsAtCarryingValue\"\n",
    "filterD = temp.datapoint_name == \"CommonStockSharesAuthorized\"\n",
    "filterE = temp.datapoint_name == \"LiabilitiesAndStockholdersEquity\"\n",
    "filterF = temp.datapoint_name == \"NetIncomeLoss\"\n",
    "filterG = temp.datapoint_name == \"RetainedEarningsAccumulatedDeficit\"\n",
    "filterH = temp.datapoint_name == \"StockholdersEquity\"\n",
    "\n",
    "temp = temp.filter(filterA)"
   ]
  },
  {
   "cell_type": "code",
   "execution_count": null,
   "metadata": {},
   "outputs": [],
   "source": [
    "temp0 = temp.filter(filterB).sort(col(\"cik\").desc()).groupBy('cik').agg({'string_value': 'mean'}).withColumnRenamed(\"avg(string_value)\",\"Asset\")\n",
    "\n",
    "temp1 = temp.filter(filterC).sort(col(\"cik\").desc()).groupBy('cik').agg({'string_value': 'mean'}).withColumnRenamed(\"avg(string_value)\",\"CashAndCashEquivalentsAtCarryingValue\")\n",
    "\n",
    "temp2 = temp.filter(filterD).sort(col(\"cik\").desc()).groupBy('cik').agg({'string_value': 'mean'}).withColumnRenamed(\"avg(string_value)\",\"CommonStockSharesAuthorized\")\n",
    "\n",
    "temp3 = temp.filter(filterE).sort(col(\"cik\").desc()).groupBy('cik').agg({'string_value': 'mean'}).withColumnRenamed(\"avg(string_value)\",\"LiabilitiesAndStockholdersEquity\")\n",
    "\n",
    "temp4 = temp.filter(filterF).sort(col(\"cik\").desc()).groupBy('cik').agg({'string_value': 'mean'}).withColumnRenamed(\"avg(string_value)\",\"NetIncomeLoss\")\n",
    "\n",
    "temp5 = temp.filter(filterG).sort(col(\"cik\").desc()).groupBy('cik').agg({'string_value': 'mean'}).withColumnRenamed(\"avg(string_value)\",\"RetainedEarningsAccumulatedDeficit\")\n",
    "\n",
    "temp6 = temp.filter(filterH).sort(col(\"cik\").desc()).groupBy('cik').agg({'string_value': 'mean'}).withColumnRenamed(\"avg(string_value)\",\"StockholdersEquity\")\n",
    "\n"
   ]
  },
  {
   "cell_type": "code",
   "execution_count": null,
   "metadata": {},
   "outputs": [],
   "source": [
    "join = temp0.join(temp1, on=['cik'], \n",
    "                   how='inner').join(temp2, on=['cik'], \n",
    "                                     how='inner').join(temp3,  on=['cik'], \n",
    "                                                       how='inner').join(temp4,  on=['cik'], \n",
    "                                                                         how='inner').join(temp5,  on=['cik'], \n",
    "                                                                                           how='inner').join(temp6,  on=['cik'], \n",
    "                                                                                                             how='inner')\n"
   ]
  },
  {
   "cell_type": "code",
   "execution_count": 24,
   "metadata": {
    "scrolled": false
   },
   "outputs": [
    {
     "name": "stdout",
     "output_type": "stream",
     "text": [
      "root\n",
      " |-- cik: integer (nullable = true)\n",
      " |-- Asset: double (nullable = true)\n",
      " |-- CashAndCashEquivalentsAtCarryingValue: double (nullable = true)\n",
      " |-- CommonStockSharesAuthorized: double (nullable = true)\n",
      " |-- LiabilitiesAndStockholdersEquity: double (nullable = true)\n",
      " |-- NetIncomeLoss: double (nullable = true)\n",
      " |-- RetainedEarningsAccumulatedDeficit: double (nullable = true)\n",
      " |-- StockholdersEquity: double (nullable = true)\n",
      "\n"
     ]
    }
   ],
   "source": [
    "join.printSchema()"
   ]
  },
  {
   "cell_type": "markdown",
   "metadata": {},
   "source": [
    "### KMEANS CLUSTERING IN PYSPARK"
   ]
  },
  {
   "cell_type": "code",
   "execution_count": null,
   "metadata": {},
   "outputs": [],
   "source": [
    "from pyspark.ml.clustering import KMeans\n",
    "from pyspark.ml.feature import VectorAssembler\n",
    "\n",
    "\n",
    "assembler = VectorAssembler(outputCol=\"features\")\n",
    "assembler.setInputCols(['Asset','CashAndCashEquivalentsAtCarryingValue','CommonStockSharesAuthorized',\n",
    "                                          'LiabilitiesAndStockholdersEquity','NetIncomeLoss',\n",
    "                        'RetainedEarningsAccumulatedDeficit','StockholdersEquity'])\n",
    "\n",
    "\n",
    "\n",
    "join = assembler.transform(join)"
   ]
  },
  {
   "cell_type": "code",
   "execution_count": null,
   "metadata": {},
   "outputs": [],
   "source": [
    "# Trains a k-means model.\n",
    "kmeans = KMeans().setK(4).setSeed(1)\n",
    "model = kmeans.fit(join)"
   ]
  },
  {
   "cell_type": "code",
   "execution_count": 27,
   "metadata": {
    "scrolled": false
   },
   "outputs": [
    {
     "name": "stdout",
     "output_type": "stream",
     "text": [
      "Cluster Centers: \n",
      "[1.44297672e+10 1.67147282e+09 2.36883515e+09 3.12794124e+10\n",
      " 3.93902228e+08 6.19702424e+09 7.07513479e+09]\n",
      "[8.51242857e+09 5.21333333e+08 1.20000000e+15 1.50230000e+10\n",
      " 7.48400000e+08 5.63872727e+09 1.78000000e+08]\n",
      "[3.00690440e+09 4.40025222e+08 3.33334000e+14 3.80637129e+09\n",
      " 1.02453941e+08 1.79530529e+08 1.88543188e+09]\n",
      "[4.57157134e+13 2.22801408e+13 4.80000000e+10 1.06245574e+14\n",
      " 2.23455500e+11 2.74054500e+12 8.72651900e+12]\n"
     ]
    }
   ],
   "source": [
    "centers = model.clusterCenters()\n",
    "print(\"Cluster Centers: \")\n",
    "for center in centers:\n",
    "    print(center)"
   ]
  },
  {
   "cell_type": "code",
   "execution_count": 28,
   "metadata": {
    "scrolled": false
   },
   "outputs": [
    {
     "name": "stdout",
     "output_type": "stream",
     "text": [
      "+-------+--------------------+-------------------------------------+---------------------------+--------------------------------+--------------------+----------------------------------+--------------------+--------------------+----------+\n",
      "|    cik|               Asset|CashAndCashEquivalentsAtCarryingValue|CommonStockSharesAuthorized|LiabilitiesAndStockholdersEquity|       NetIncomeLoss|RetainedEarningsAccumulatedDeficit|  StockholdersEquity|            features|prediction|\n",
      "+-------+--------------------+-------------------------------------+---------------------------+--------------------------------+--------------------+----------------------------------+--------------------+--------------------+----------+\n",
      "|  18498|           5.57098E8|                            8.81275E7|                      8.0E7|                    1.04455875E9|-2.95812857142857...|                        2.907682E8|          7.002385E8|[5.57098E8,8.8127...|         0|\n",
      "|  47217|3.228033333333333...|                 3.9473333333333335E9|                      9.6E9|            3.228033333333333...|           1.27636E9|              -5.909411764705882E8|            -5.397E8|[3.22803333333333...|         0|\n",
      "| 317340|  3805950.3333333335|                   1825003.3333333333|                      6.0E7|              3805950.3333333335|            113533.0|                -8041736.666666667|   604568.9285714285|[3805950.33333333...|         0|\n",
      "| 723188|          4.148223E9|                           3.422542E8|                      7.5E7|                     8.5256045E9|           8.98373E7|                         8.18928E8|          5.579375E8|[4.148223E9,3.422...|         0|\n",
      "| 723646|         9.4829925E8|                           4.563625E7|                     1.15E7|                     9.4829925E8|   4171090.909090909|               8.619833333333333E7|4.4526210526315786E7|[9.4829925E8,4.56...|         0|\n",
      "| 788920|           2.48285E7|                            9266000.0|                      5.0E7|                       2.48285E7|           1514800.0|                          488000.0|   8160368.421052632|[2.48285E7,926600...|         0|\n",
      "| 849401|           2456288.5|                   1497699.3333333333|                      1.5E8|                       4912577.0| -166203.16666666666|              -2.97620523333333...|  2355348.3333333335|[2456288.5,149769...|         0|\n",
      "| 858470| 4.414701666666667E9|                             1.8619E8|                      9.6E8|             4.414701666666667E9|2.1299685714285713E8|              1.8107356666666667E9| 6.232045172413793E8|[4.41470166666666...|         0|\n",
      "| 898173| 9.414764666666666E9|                             4.7947E7|                     2.45E8|             9.414764666666666E9| 5.803850833333334E8|              -9.735503333333334E8|          1.443504E8|[9.41476466666666...|         0|\n",
      "| 907254|          7.737465E8|                 1.1765333333333334E7|                      4.0E7|                      1.547493E9|           2.14615E7|                        -2.10303E8| 3.611836666666667E8|[7.737465E8,1.176...|         0|\n",
      "|1001601|  1749333.3333333333|                   1172333.3333333333|       2.1041666666666667E9|              1749333.3333333333|  -4680571.428571428|                       -3.253732E8|   2384138.888888889|[1749333.33333333...|         0|\n",
      "|1018724|9.924985714285715E10|                            2.5827E10|                      5.0E9|                      1.77367E11| 5.738857142857142E9|              2.287866666666666...|1.273207142857142...|[9.92498571428571...|         0|\n",
      "|1076682| 5.685944444444445E7|                           5.186725E7|                      2.5E8|                      8.089375E7|      -2.351884375E7|                        -3.56744E8|         2.3742375E7|[5.68594444444444...|         0|\n",
      "|1109138|           1.41547E8|                             2.1974E7|                      1.0E8|                       1.41547E8|            1.8731E7|                          2.1281E7|           4.05628E7|[1.41547E8,2.1974...|         0|\n",
      "|1124524|        7.65413284E7|                          5.0247108E7|                      1.0E8|                     8.3186849E7| -1571241.4193548388|              -1.43422582333333...|1.1979495685714286E7|[7.65413284E7,5.0...|         0|\n",
      "|1267238|1.445940526315789...|                  7.099285714285715E8|        5.715071431428572E8|                     2.787064E10| 9.861333333333333E7|                         4.83255E9|1.1399478260869565E9|[1.44594052631578...|         0|\n",
      "|1338940|           2.56446E8|                             3.9109E7|               4.16666665E7|                       2.56446E8|           8121000.0|                         -9.0263E7| 7.636242857142857E7|[2.56446E8,3.9109...|         0|\n",
      "|1370637| 9.682646666666666E8|                  3.572726666666667E8|                      1.4E9|             9.682646666666666E8|2.3844695652173914E7|              -1.39898333333333...|1.6842826666666666E8|[9.68264666666666...|         0|\n",
      "|1401708|2.0040033333333334E8|                 4.7278666666666664E7|                      1.5E8|            2.0040033333333334E8|-3.68703333333333...|              -4.125336666666667E8|          2.056475E7|[2.00400333333333...|         0|\n",
      "|1445109|  43620.666666666664|                   18620.666666666668|                      5.0E8|              43620.666666666664| -2415983.8181818184|              -2.752371416666667E8|  -6724425.388888889|[43620.6666666666...|         0|\n",
      "+-------+--------------------+-------------------------------------+---------------------------+--------------------------------+--------------------+----------------------------------+--------------------+--------------------+----------+\n",
      "only showing top 20 rows\n",
      "\n"
     ]
    }
   ],
   "source": [
    "#getting the transformed table with clusters\n",
    "transformed = model.transform(join)\n",
    "\n",
    "transformed.show()"
   ]
  },
  {
   "cell_type": "code",
   "execution_count": 41,
   "metadata": {},
   "outputs": [],
   "source": [
    "subset = company_submission.select(company_submission.cik,\n",
    "                                   company_submission.company_name,\n",
    "                                   year(\"filing_date\").alias('year'))\n",
    "subset = subset.distinct().filter(subset.year==2019)\n",
    "final = transformed.join(subset, on=['cik'], how='inner').drop('features')"
   ]
  },
  {
   "cell_type": "code",
   "execution_count": 43,
   "metadata": {
    "scrolled": false
   },
   "outputs": [
    {
     "name": "stdout",
     "output_type": "stream",
     "text": [
      "+------+---------------------+-------------------------------------+---------------------------+--------------------------------+---------------------+----------------------------------+--------------------+----------+-------------------------------------+----+\n",
      "|cik   |Asset                |CashAndCashEquivalentsAtCarryingValue|CommonStockSharesAuthorized|LiabilitiesAndStockholdersEquity|NetIncomeLoss        |RetainedEarningsAccumulatedDeficit|StockholdersEquity  |prediction|company_name                         |year|\n",
      "+------+---------------------+-------------------------------------+---------------------------+--------------------------------+---------------------+----------------------------------+--------------------+----------+-------------------------------------+----+\n",
      "|18498 |5.57098E8            |8.81275E7                            |8.0E7                      |1.04455875E9                    |-2.9581285714285713E7|2.907682E8                        |7.002385E8          |0         |GENESCO INC                          |2019|\n",
      "|47217 |3.2280333333333332E10|3.9473333333333335E9                 |9.6E9                      |3.2280333333333332E10           |1.27636E9            |-5.909411764705882E8              |-5.397E8            |0         |HP INC                               |2019|\n",
      "|317340|3805950.3333333335   |1825003.3333333333                   |6.0E7                      |3805950.3333333335              |113533.0             |-8041736.666666667                |604568.9285714285   |0         |MIKROS SYSTEMS CORP                  |2019|\n",
      "|723188|4.148223E9           |3.422542E8                           |7.5E7                      |8.5256045E9                     |8.98373E7            |8.18928E8                         |5.579375E8          |0         |COMMUNITY BANK SYSTEM, INC.          |2019|\n",
      "|723646|9.4829925E8          |4.563625E7                           |1.15E7                     |9.4829925E8                     |4171090.909090909    |8.619833333333333E7               |4.4526210526315786E7|0         |FRANKLIN FINANCIAL SERVICES CORP /PA/|2019|\n",
      "|788920|2.48285E7            |9266000.0                            |5.0E7                      |2.48285E7                       |1514800.0            |488000.0                          |8160368.421052632   |0         |PRO DEX INC                          |2019|\n",
      "|849401|2456288.5            |1497699.3333333333                   |1.5E8                      |4912577.0                       |-166203.16666666666  |-2.9762052333333332E7             |2355348.3333333335  |0         |ADM TRONICS UNLIMITED, INC.          |2019|\n",
      "|858470|4.414701666666667E9  |1.8619E8                             |9.6E8                      |4.414701666666667E9             |2.1299685714285713E8 |1.8107356666666667E9              |6.232045172413793E8 |0         |CABOT OIL & GAS CORP                 |2019|\n",
      "|898173|9.414764666666666E9  |4.7947E7                             |2.45E8                     |9.414764666666666E9             |5.803850833333334E8  |-9.735503333333334E8              |1.443504E8          |0         |O REILLY AUTOMOTIVE INC              |2019|\n",
      "|907254|7.737465E8           |1.1765333333333334E7                 |4.0E7                      |1.547493E9                      |2.14615E7            |-2.10303E8                        |3.611836666666667E8 |0         |SAUL CENTERS INC                     |2019|\n",
      "+------+---------------------+-------------------------------------+---------------------------+--------------------------------+---------------------+----------------------------------+--------------------+----------+-------------------------------------+----+\n",
      "only showing top 10 rows\n",
      "\n"
     ]
    }
   ],
   "source": [
    "final.show(10,truncate=False)"
   ]
  },
  {
   "cell_type": "markdown",
   "metadata": {},
   "source": [
    "### Challenges"
   ]
  },
  {
   "cell_type": "markdown",
   "metadata": {},
   "source": [
    "The code below takes a very long time to run."
   ]
  },
  {
   "cell_type": "markdown",
   "metadata": {},
   "source": [
    "final.filter(final.prediction==0).sort(col(\"StockholdersEquity\").desc()).show(10,truncate=False)\n",
    "final.filter(final.prediction==1).sort(col(\"StockholdersEquity\").desc()).show(10,truncate=False)\n",
    "final.filter(final.prediction==2).sort(col(\"StockholdersEquity\").desc()).show(10,truncate=False)\n",
    "final.filter(final.prediction==3).sort(col(\"StockholdersEquity\").desc()).show(10,truncate=False)"
   ]
  },
  {
   "cell_type": "markdown",
   "metadata": {},
   "source": [
    "Calculate cost and plot:\n",
    "Elbow Plot for finding the right number of clusters:\n",
    "\n",
    "\n",
    "cost = np.zeros(10)\n",
    "\n",
    "for k in range(2,10):\n",
    "    kmeans = KMeans().setK(k).setSeed(1).setFeaturesCol('features')\n",
    "    model = kmeans.fit(join)\n",
    "    cost[k] = model.computeCost(join)\n",
    "\n",
    "#Plot the cost\n",
    "df_cost = pd.DataFrame(cost[2:])\n",
    "df_cost.columns = [\"cost\"]\n",
    "new_col = [2,3,4,5,6,7,8, 9]\n",
    "df_cost.insert(0, 'cluster', new_col)\n",
    "\n",
    "import pylab as pl:\n",
    "pl.plot(df_cost.cluster, df_cost.cost)\n",
    "pl.xlabel('Number of Clusters')\n",
    "pl.ylabel('Score')\n",
    "pl.title('Elbow Curve')\n",
    "pl.show()"
   ]
  },
  {
   "cell_type": "code",
   "execution_count": 22,
   "metadata": {},
   "outputs": [],
   "source": [
    "sc.stop()"
   ]
  },
  {
   "cell_type": "code",
   "execution_count": null,
   "metadata": {},
   "outputs": [],
   "source": [
    "spark.stop()"
   ]
  }
 ],
 "metadata": {
  "kernelspec": {
   "display_name": "Python 3",
   "language": "python",
   "name": "python3"
  },
  "language_info": {
   "codemirror_mode": {
    "name": "ipython",
    "version": 3
   },
   "file_extension": ".py",
   "mimetype": "text/x-python",
   "name": "python",
   "nbconvert_exporter": "python",
   "pygments_lexer": "ipython3",
   "version": "3.7.4"
  }
 },
 "nbformat": 4,
 "nbformat_minor": 4
}
